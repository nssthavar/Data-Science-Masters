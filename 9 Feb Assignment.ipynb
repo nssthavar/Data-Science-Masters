{
 "cells": [
  {
   "cell_type": "markdown",
   "id": "c497ddbc-582d-4122-9231-952a0aecf2b9",
   "metadata": {},
   "source": [
    "#### Q1, Create a vehicle class with an init method having instance variables as name_of_vehicle, max_speed and average_of_vehicle."
   ]
  },
  {
   "cell_type": "code",
   "execution_count": 2,
   "id": "b063a0ff-7ed8-4ef9-b2f9-ca9646d045c0",
   "metadata": {},
   "outputs": [],
   "source": [
    "class Vehicle:\n",
    "    def __init__(self, name_of_vehicle, max_speed, average_of_vehicle):\n",
    "        self.name_of_vehicle = name_of_vehicle\n",
    "        self.max_speed = max_speed\n",
    "        self.average_of_vehicle = average_of_vehicle"
   ]
  },
  {
   "cell_type": "markdown",
   "id": "30e8884e-88c0-45bb-9f54-bd050bebf1f8",
   "metadata": {},
   "source": [
    "#### Q2. Create a child class car from the vehicle class created in Que 1, which will inherit the vehicle class. Create a method named seating_capacity which takes capacity as an argument and returns the name of the vehicle and its seating capacity."
   ]
  },
  {
   "cell_type": "code",
   "execution_count": 10,
   "id": "259a5531-7a6c-4720-99b8-e3e2d6e67697",
   "metadata": {},
   "outputs": [],
   "source": [
    "class Car(Vehicle):\n",
    "        def seating_capacity(self, capacity):\n",
    "            return f\"{self.name_of_vehicle} has a seating capacity of {capacity} people.\""
   ]
  },
  {
   "cell_type": "code",
   "execution_count": 4,
   "id": "616547f8-b129-4584-b6bf-23d876a9dbb2",
   "metadata": {},
   "outputs": [
    {
     "name": "stdout",
     "output_type": "stream",
     "text": [
      "Honda Civic has a seating capacity of 5 people.\n"
     ]
    }
   ],
   "source": [
    "my_car = Car(\"Honda Civic\", 130, 5)\n",
    "print(my_car.seating_capacity(5))  # Output: \"Honda Civic has a seating capacity of 5 people.\""
   ]
  },
  {
   "cell_type": "markdown",
   "id": "cd69444f-1b21-468d-906a-c244f843e5d8",
   "metadata": {},
   "source": [
    "#### Q3. What is multiple inheritance? Write a python code to demonstrate multiple inheritance.\n",
    "\n",
    "Multiple inheritance is a feature in object-oriented programming where a class can inherit from multiple base classes. In Python, multiple inheritance is supported by allowing a class to list multiple base classes separated by commas in the class definition."
   ]
  },
  {
   "cell_type": "code",
   "execution_count": 23,
   "id": "c0636957-f6cf-46ed-8573-26e258f6e18b",
   "metadata": {},
   "outputs": [
    {
     "name": "stdout",
     "output_type": "stream",
     "text": [
      "John Doe says hello!\n",
      "Employee gets paid 5000 per month.\n",
      "John Doe is managing the team.\n"
     ]
    }
   ],
   "source": [
    "class Person:\n",
    "    def __init__(self, name, age):\n",
    "        self.name = name\n",
    "        self.age = age\n",
    "        \n",
    "    def say_hello(self):\n",
    "        print(f\"{self.name} says hello!\")\n",
    "\n",
    "class Employee:\n",
    "    def __init__(self, salary):\n",
    "        self.salary = salary\n",
    "        \n",
    "    def get_paid(self):\n",
    "        print(f\"Employee gets paid {self.salary} per month.\")\n",
    "\n",
    "class Manager(Person, Employee):\n",
    "    def __init__(self, name, age, salary):\n",
    "        Person.__init__(self, name, age)\n",
    "        Employee.__init__(self, salary)\n",
    "        \n",
    "    def manage(self):\n",
    "        print(f\"{self.name} is managing the team.\")\n",
    "\n",
    "# Create an instance of the Manager class\n",
    "manager = Manager(\"John Doe\", 30, 5000)\n",
    "\n",
    "# Call methods on the instance\n",
    "manager.say_hello()  # Output: \"John Doe says hello!\"\n",
    "manager.get_paid()   # Output: \"Employee gets paid 5000 per month.\"\n",
    "manager.manage()     # Output: \"John Doe is managing the team.\""
   ]
  },
  {
   "cell_type": "markdown",
   "id": "02e64fc7-8ff6-483d-9c3d-9ddba0e3291e",
   "metadata": {},
   "source": [
    "#### Q4. What are getter and setter in python? Create a class and create a getter and a setter method in this class.\n",
    "\n",
    "In Python, getters and setters are methods used to access and modify private instance variables of a class. Private instance variables are those that are not intended to be accessed from outside the class, and are denoted by a leading underscore before the variable name.\n",
    "\n",
    "A getter is a method that retrieves the value of a private instance variable, while a setter is a method that sets the value of a private instance variable. They are useful for ensuring data encapsulation and maintaining control over how instance variables are accessed and modified.\n"
   ]
  },
  {
   "cell_type": "code",
   "execution_count": 20,
   "id": "6fc853e4-164c-4d99-8574-803f1d44a0ce",
   "metadata": {},
   "outputs": [],
   "source": [
    "class BankAccount:\n",
    "    def __init__(self, account_number, balance):\n",
    "        self.account_number = account_number\n",
    "        self._balance = balance\n",
    "        \n",
    "    def get_balance(self):\n",
    "        return self._balance\n",
    "    \n",
    "    def set_balance(self, new_balance):\n",
    "        if new_balance < 0:\n",
    "            print(\"Error: Balance cannot be negative.\")\n",
    "        else:\n",
    "            self._balance = new_balance\n",
    "            print(\"Balance updated successfully.\")"
   ]
  },
  {
   "cell_type": "code",
   "execution_count": 21,
   "id": "333a6261-ee83-48a4-b2be-5d5c6c409edd",
   "metadata": {},
   "outputs": [
    {
     "name": "stdout",
     "output_type": "stream",
     "text": [
      "1000\n",
      "Balance updated successfully.\n",
      "1500\n",
      "Error: Balance cannot be negative.\n",
      "1500\n"
     ]
    }
   ],
   "source": [
    "account = BankAccount(\"123456789\", 1000)\n",
    "print(account.get_balance())  # Output: 1000\n",
    "\n",
    "account.set_balance(1500)\n",
    "print(account.get_balance())  # Output: 1500\n",
    "\n",
    "account.set_balance(-500)  # Output: \"Error: Balance cannot be negative.\"\n",
    "print(account.get_balance())  # Output: 1500 (balance should not be updated)"
   ]
  },
  {
   "cell_type": "markdown",
   "id": "57b6d4df-8aad-4956-a4d2-d36d8317ff44",
   "metadata": {},
   "source": [
    "#### Q5.What is method overriding in python? Write a python code to demonstrate method overriding.\n",
    "\n",
    "Method overriding is a feature in object-oriented programming where a subclass provides its own implementation of a method that is already defined in its superclass. This allows the subclass to modify or extend the behavior of the inherited method."
   ]
  },
  {
   "cell_type": "code",
   "execution_count": 22,
   "id": "98b401e1-f81c-497b-8df8-b75bb04e5077",
   "metadata": {},
   "outputs": [
    {
     "name": "stdout",
     "output_type": "stream",
     "text": [
      "The animal makes a generic sound.\n",
      "The dog barks.\n",
      "The cat meows.\n"
     ]
    }
   ],
   "source": [
    "class Animal:\n",
    "    def make_sound(self):\n",
    "        print(\"The animal makes a generic sound.\")\n",
    "        \n",
    "class Dog(Animal):\n",
    "    def make_sound(self):\n",
    "        print(\"The dog barks.\")\n",
    "        \n",
    "class Cat(Animal):\n",
    "    def make_sound(self):\n",
    "        print(\"The cat meows.\")\n",
    "\n",
    "# Create instances of the classes\n",
    "animal = Animal()\n",
    "dog = Dog()\n",
    "cat = Cat()\n",
    "\n",
    "# Call the make_sound() method on each instance\n",
    "animal.make_sound()  # Output: \"The animal makes a generic sound.\"\n",
    "dog.make_sound()     # Output: \"The dog barks.\"\n",
    "cat.make_sound()     # Output: \"The cat meows.\""
   ]
  }
 ],
 "metadata": {
  "kernelspec": {
   "display_name": "Python 3 (ipykernel)",
   "language": "python",
   "name": "python3"
  },
  "language_info": {
   "codemirror_mode": {
    "name": "ipython",
    "version": 3
   },
   "file_extension": ".py",
   "mimetype": "text/x-python",
   "name": "python",
   "nbconvert_exporter": "python",
   "pygments_lexer": "ipython3",
   "version": "3.10.8"
  }
 },
 "nbformat": 4,
 "nbformat_minor": 5
}
