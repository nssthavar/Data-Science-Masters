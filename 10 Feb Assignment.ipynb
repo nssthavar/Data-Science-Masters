{
 "cells": [
  {
   "cell_type": "markdown",
   "id": "3a063d3f-94e9-421b-88d1-f785a3f9c4db",
   "metadata": {},
   "source": [
    "#### Q1. Which function is used to open a file? What are the different modes of opening a file? Explain each mode of file opening.\n",
    "\n",
    "In Python, the built-in open() function is used to open a file. The open() function returns a file object that can be used to read, write, or append to the file.\n",
    "\n",
    "Here are the different modes of opening a file:\n",
    "\n",
    "\"r\" (read mode): This mode is used to read the contents of a file. If the file does not exist, it will raise a FileNotFoundError exception.\n",
    "\n",
    "\"w\" (write mode): This mode is used to write data to a file. If the file already exists, its contents will be overwritten. If the file does not exist, it will be created.\n",
    "\n",
    "\"a\" (append mode): This mode is used to append data to a file. If the file does not exist, it will be created.\n",
    "\n",
    "\"x\" (exclusive creation mode): This mode is used to create a new file. If the file already exists, it will raise a FileExistsError exception.\n",
    "\n",
    "\"b\" (binary mode): This mode is used to open a file in binary mode, which means that the data is read or written in its raw byte format.\n",
    "\n",
    "\"t\" (text mode): This mode is used to open a file in text mode, which means that the data is read or written as Unicode strings.\n",
    "\n",
    "\"+\" (read and write mode): This mode is used to open a file for both reading and writing.\n",
    "\n",
    "To use one or more of these modes, simply pass them as the second argument to the open() function, like this:\n",
    "\n",
    "##### Open a file in read mode\n",
    "file = open(\"example.txt\", \"r\")\n",
    "\n",
    "##### Open a file in write mode\n",
    "file = open(\"example.txt\", \"w\")\n",
    "\n",
    "##### Open a file in append mode\n",
    "file = open(\"example.txt\", \"a\")\n",
    "\n",
    "##### Open a file in exclusive creation mode\n",
    "file = open(\"example.txt\", \"x\")\n",
    "\n",
    "##### Open a file in binary mode\n",
    "file = open(\"example.txt\", \"rb\")\n",
    "\n",
    "##### Open a file in text mode\n",
    "file = open(\"example.txt\", \"rt\")\n",
    "\n",
    "##### Open a file for reading and writing\n",
    "file = open(\"example.txt\", \"r+\")"
   ]
  },
  {
   "cell_type": "markdown",
   "id": "002cb1c1-25bc-4132-bfef-e8eb5f00d7b2",
   "metadata": {},
   "source": [
    "#### Q2. Why close() function is used? Why is it important to close a file?\n",
    "\n",
    "In Python, the close() function is used to close an open file. It is important to close a file after you have finished working with it, for the following reasons:\n",
    "\n",
    "Saves memory: When you open a file, Python creates an object in memory to represent that file. If you do not close the file, the object will remain in memory even after you have finished working with it, which can use up valuable memory resources.\n",
    "\n",
    "Flushes data to disk: When you write to a file, the data is initially stored in a buffer in memory. If you do not close the file, the data may not be written to the file until Python's internal buffer is full or until the program terminates. By closing the file, you ensure that all of the data you have written to the file is immediately written to disk.\n",
    "\n",
    "Prevents corruption: If you do not close a file properly, it can become corrupted. For example, if you write to a file and then terminate your program before closing the file, the data may be lost or corrupted.\n",
    "\n",
    "To close a file in Python, simply call the close() method on the file object, like this:\n",
    "    \n",
    "##### Open a file\n",
    "file = open(\"example.txt\", \"w\")\n",
    "\n",
    "##### Write some data to the file\n",
    "file.write(\"Hello, world!\")\n",
    "\n",
    "##### Close the file\n",
    "file.close()\n",
    "\n",
    "It is a good practice to close files after you have finished working with them, to prevent memory leaks and data corruption.\n"
   ]
  },
  {
   "cell_type": "markdown",
   "id": "3059294e-a1ff-4842-b768-82a0f2925f00",
   "metadata": {},
   "source": [
    "#### Q3. Write a python program to create a text file. Write ‘I want to become a Data Scientist’ in that file. Then close the file. Open this file and read the content of the file.\n",
    "\n"
   ]
  },
  {
   "cell_type": "code",
   "execution_count": 18,
   "id": "67b39e60-765b-454f-b077-058433944ef4",
   "metadata": {},
   "outputs": [
    {
     "name": "stdout",
     "output_type": "stream",
     "text": [
      "I want to become a Data Scientist.\n",
      "India is a great country.\n",
      "Practicing python code daily.\n"
     ]
    }
   ],
   "source": [
    "# open a new file in write mode\n",
    "file = open(\"data_scientist.txt\", \"w\")\n",
    "\n",
    "# write a string to the file\n",
    "file.write(\"I want to become a Data Scientist.\\nIndia is a great country.\\nPracticing python code daily.\")\n",
    "\n",
    "# close the file\n",
    "file.close()\n",
    "\n",
    "# open the file in read mode\n",
    "file = open(\"data_scientist.txt\", \"r\")\n",
    "\n",
    "# read the contents of the file\n",
    "contents = file.read()\n",
    "\n",
    "# print the contents of the file\n",
    "print(contents)\n",
    "\n",
    "# close the file\n",
    "file.close()"
   ]
  },
  {
   "cell_type": "markdown",
   "id": "e3a7fe6a-19c8-4d33-a813-dfc5cdc51691",
   "metadata": {},
   "source": [
    "#### Q4. Explain the following with python code: read(), readline() and readlines().\n",
    "\n",
    "In Python, there are three main ways to read data from a file: read(), readline(), and readlines(). Here's a brief explanation of each method along with some code examples:\n",
    "\n",
    "1. read(): This method reads the entire content of a file and returns it as a single string.\n",
    "\n",
    "2. readline(): This method reads a single line from the file and returns it as a string.\n",
    "\n",
    "3. readlines(): This method reads all the lines from the file and returns them as a list of strings."
   ]
  },
  {
   "cell_type": "code",
   "execution_count": 19,
   "id": "a05e4ae5-31ac-4a9b-8bfe-1a626b5ba6b3",
   "metadata": {},
   "outputs": [
    {
     "name": "stdout",
     "output_type": "stream",
     "text": [
      "I want to become a Data Scientist.\n",
      "India is a great country.\n",
      "Practicing python code daily.\n"
     ]
    }
   ],
   "source": [
    "# Open the file in read mode\n",
    "file = open(\"data_scientist.txt\", \"r\")\n",
    "\n",
    "# Read the entire content of the file\n",
    "content = file.read()\n",
    "\n",
    "# Print the content of the file\n",
    "print(content)\n",
    "\n",
    "# Close the file\n",
    "file.close()"
   ]
  },
  {
   "cell_type": "code",
   "execution_count": 20,
   "id": "d1b7f806-efce-4d27-be80-b6781ee36562",
   "metadata": {},
   "outputs": [
    {
     "name": "stdout",
     "output_type": "stream",
     "text": [
      "I want to become a Data Scientist.\n",
      "\n",
      "India is a great country.\n",
      "\n"
     ]
    }
   ],
   "source": [
    "# Open the file in read mode\n",
    "file = open(\"data_scientist.txt\", \"r\")\n",
    "\n",
    "# Read the first line of the file\n",
    "line1 = file.readline()\n",
    "\n",
    "# Read the second line of the file\n",
    "line2 = file.readline()\n",
    "\n",
    "# Print the first and second lines of the file\n",
    "print(line1)\n",
    "print(line2)\n",
    "\n",
    "# Close the file\n",
    "file.close()"
   ]
  },
  {
   "cell_type": "code",
   "execution_count": 21,
   "id": "55d0f74d-d4de-4c63-8102-a7f7e96c52c1",
   "metadata": {},
   "outputs": [
    {
     "name": "stdout",
     "output_type": "stream",
     "text": [
      "I want to become a Data Scientist.\n",
      "\n",
      "India is a great country.\n",
      "\n",
      "Practicing python code daily.\n"
     ]
    }
   ],
   "source": [
    "# Open the file in read mode\n",
    "file = open(\"data_scientist.txt\", \"r\")\n",
    "\n",
    "# Read all the lines of the file\n",
    "lines = file.readlines()\n",
    "\n",
    "# Print all the lines of the file\n",
    "for line in lines:\n",
    "    print(line)\n",
    "\n",
    "# Close the file\n",
    "file.close()"
   ]
  },
  {
   "cell_type": "markdown",
   "id": "99cb21c3-7813-490f-8557-50ce50407008",
   "metadata": {},
   "source": [
    "#### Q5. Explain why with statement is used with open(). What is the advantage of using with statement and open() together?\n",
    "\n",
    "The with statement in Python is used with the open() function to ensure that the file is properly closed after it's used. This is because files are a finite resource and opening too many files without closing them can cause resource exhaustion, especially in long-running programs.\n",
    "\n",
    "The with statement guarantees that the file is properly closed even if an exception occurs, making the code more robust and less prone to errors. It also simplifies the syntax of the code by eliminating the need to manually call the close() method.\n",
    "\n",
    "In this example, the open() function is used with the with statement to open the file \"data_scientist.txt\" in read mode. The with statement creates a context in which the file is available for use, and the as keyword assigns the file object to the variable file. Inside the with block, we can perform any operations we want on the file. In this case, we're reading the content of the file and printing it to the console. After the with block is executed, the file is automatically closed, even if an exception occurs.\n",
    "\n",
    "Using the with statement and open() function together is a best practice in Python for reading and writing files, as it ensures that the file is properly closed and makes the code more readable and robust."
   ]
  },
  {
   "cell_type": "code",
   "execution_count": 24,
   "id": "7791470d-c376-41a6-ba72-49c4233812a0",
   "metadata": {},
   "outputs": [
    {
     "name": "stdout",
     "output_type": "stream",
     "text": [
      "I want to become a Data Scientist.\n",
      "India is a great country.\n",
      "Practicing python code daily.\n"
     ]
    }
   ],
   "source": [
    "# Open the file using with statement\n",
    "with open(\"data_scientist.txt\", \"r\") as file:\n",
    "    # Do something with the file\n",
    "    content = file.read()\n",
    "    print(content)\n",
    "# File is automatically closed after the with block"
   ]
  },
  {
   "cell_type": "markdown",
   "id": "9c10c382-22a2-4c83-aec5-7785463e37b8",
   "metadata": {},
   "source": [
    "#### Q6. Explain the write() and writelines() functions. Give a suitable example.\n",
    "\n",
    "In Python, write() and writelines() are two functions that are used to write data to a file. Here's a brief explanation of each function along with an example:\n",
    "\n",
    "1. write(): This function is used to write a string to a file.\n",
    "\n",
    "2. writelines(): This function is used to write a list of strings to a file."
   ]
  },
  {
   "cell_type": "code",
   "execution_count": 3,
   "id": "ae7c4424-c55d-40b8-b862-56c2fcf6cf28",
   "metadata": {},
   "outputs": [],
   "source": [
    "# Open the file in write mode\n",
    "file = open(\"example.txt\", \"w\")\n",
    "\n",
    "# Write a string to the file\n",
    "file.write(\"Hello, World!\\n\")\n",
    "\n",
    "# Close the file\n",
    "file.close()"
   ]
  },
  {
   "cell_type": "code",
   "execution_count": 4,
   "id": "6b7ceeea-2c9b-45a4-9949-589dd9739e9a",
   "metadata": {},
   "outputs": [],
   "source": [
    "# Open the file in write mode\n",
    "file = open(\"example1.txt\", \"w\")\n",
    "\n",
    "# Write a list of strings to the file\n",
    "lines = [\"Hello, World!\\n\", \"How are you?\\n\", \"Goodbye!\\n\"]\n",
    "file.writelines(lines)\n",
    "\n",
    "# Close the file\n",
    "file.close()"
   ]
  }
 ],
 "metadata": {
  "kernelspec": {
   "display_name": "Python 3 (ipykernel)",
   "language": "python",
   "name": "python3"
  },
  "language_info": {
   "codemirror_mode": {
    "name": "ipython",
    "version": 3
   },
   "file_extension": ".py",
   "mimetype": "text/x-python",
   "name": "python",
   "nbconvert_exporter": "python",
   "pygments_lexer": "ipython3",
   "version": "3.10.8"
  }
 },
 "nbformat": 4,
 "nbformat_minor": 5
}
