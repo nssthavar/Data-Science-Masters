{
 "cells": [
  {
   "cell_type": "markdown",
   "id": "8ee6bc76-b1e2-4a0a-98dc-f5b1b529d019",
   "metadata": {},
   "source": [
    "## Numbers"
   ]
  },
  {
   "cell_type": "code",
   "execution_count": 13,
   "id": "6329caf8-f536-4fa1-ba45-efd1f36b0f11",
   "metadata": {},
   "outputs": [
    {
     "name": "stdout",
     "output_type": "stream",
     "text": [
      "4\n"
     ]
    }
   ],
   "source": [
    "print(1+3)"
   ]
  },
  {
   "cell_type": "code",
   "execution_count": 14,
   "id": "a13f94c6-af13-4630-af80-4de2a85f1970",
   "metadata": {},
   "outputs": [
    {
     "data": {
      "text/plain": [
       "4"
      ]
     },
     "execution_count": 14,
     "metadata": {},
     "output_type": "execute_result"
    }
   ],
   "source": [
    "1+3"
   ]
  },
  {
   "cell_type": "code",
   "execution_count": 19,
   "id": "83a1fe84-e474-4752-b3b2-52d16869ac9d",
   "metadata": {},
   "outputs": [
    {
     "name": "stdout",
     "output_type": "stream",
     "text": [
      "5\n"
     ]
    }
   ],
   "source": [
    "a=5\n",
    "print(a)"
   ]
  },
  {
   "cell_type": "code",
   "execution_count": 17,
   "id": "fe1c8a0b-0855-4ea2-b740-80255e0768e2",
   "metadata": {},
   "outputs": [
    {
     "data": {
      "text/plain": [
       "5"
      ]
     },
     "execution_count": 17,
     "metadata": {},
     "output_type": "execute_result"
    }
   ],
   "source": [
    "a"
   ]
  },
  {
   "cell_type": "code",
   "execution_count": 26,
   "id": "7e8fc553-af85-4b6d-9aab-6d000d438eb6",
   "metadata": {},
   "outputs": [
    {
     "name": "stdout",
     "output_type": "stream",
     "text": [
      "hello world my name is nag \n",
      " I'm studying pwskills\n"
     ]
    }
   ],
   "source": [
    "print(\"hello world my name is nag \\n I'm studying pwskills\")"
   ]
  },
  {
   "cell_type": "markdown",
   "id": "9bda23ad-a78e-4cd7-b26b-d350e3ca2103",
   "metadata": {},
   "source": [
    "## Variables Assignment"
   ]
  },
  {
   "cell_type": "code",
   "execution_count": 29,
   "id": "0894f127-cd10-4f23-bfc2-b6089cb8f42d",
   "metadata": {},
   "outputs": [],
   "source": [
    "name=\"Nag\"\n",
    "college=\"Pwskills\""
   ]
  },
  {
   "cell_type": "code",
   "execution_count": 30,
   "id": "ffc110a1-dd46-447b-af29-272791fa66ea",
   "metadata": {},
   "outputs": [
    {
     "data": {
      "text/plain": [
       "'Nag'"
      ]
     },
     "execution_count": 30,
     "metadata": {},
     "output_type": "execute_result"
    }
   ],
   "source": [
    "name"
   ]
  },
  {
   "cell_type": "code",
   "execution_count": 31,
   "id": "3f222749-2e59-4d2e-823d-7b502f7aaa5f",
   "metadata": {},
   "outputs": [
    {
     "data": {
      "text/plain": [
       "'Pwskills'"
      ]
     },
     "execution_count": 31,
     "metadata": {},
     "output_type": "execute_result"
    }
   ],
   "source": [
    "college"
   ]
  },
  {
   "cell_type": "code",
   "execution_count": 35,
   "id": "317f783a-d7a2-4191-95bb-c84ab1286f32",
   "metadata": {},
   "outputs": [
    {
     "data": {
      "text/plain": [
       "'sangu'"
      ]
     },
     "execution_count": 35,
     "metadata": {},
     "output_type": "execute_result"
    }
   ],
   "source": [
    "name=\"sangu\"\n",
    "name"
   ]
  },
  {
   "cell_type": "code",
   "execution_count": 36,
   "id": "05498f2c-9ffb-4081-a2de-01d0b116cfab",
   "metadata": {},
   "outputs": [
    {
     "data": {
      "text/plain": [
       "''"
      ]
     },
     "execution_count": 36,
     "metadata": {},
     "output_type": "execute_result"
    }
   ],
   "source": [
    "\"\""
   ]
  },
  {
   "cell_type": "code",
   "execution_count": 38,
   "id": "730c2518-3250-40fe-8437-c3648250e0bf",
   "metadata": {},
   "outputs": [
    {
     "data": {
      "text/plain": [
       "str"
      ]
     },
     "execution_count": 38,
     "metadata": {},
     "output_type": "execute_result"
    }
   ],
   "source": [
    "type(\"sangu\")"
   ]
  },
  {
   "cell_type": "code",
   "execution_count": 41,
   "id": "5229af41-9362-4b56-964a-fbadf57aed38",
   "metadata": {},
   "outputs": [
    {
     "data": {
      "text/plain": [
       "str"
      ]
     },
     "execution_count": 41,
     "metadata": {},
     "output_type": "execute_result"
    }
   ],
   "source": [
    "type(\"number\")"
   ]
  },
  {
   "cell_type": "code",
   "execution_count": 42,
   "id": "3c26c413-9975-4c51-bac7-458843568ac6",
   "metadata": {},
   "outputs": [],
   "source": [
    "decimal_numb=2.5"
   ]
  },
  {
   "cell_type": "code",
   "execution_count": 45,
   "id": "985db081-0d63-4d04-8461-5e1c1b8980a9",
   "metadata": {},
   "outputs": [
    {
     "data": {
      "text/plain": [
       "2.5"
      ]
     },
     "execution_count": 45,
     "metadata": {},
     "output_type": "execute_result"
    }
   ],
   "source": [
    "decimal_numb"
   ]
  },
  {
   "cell_type": "code",
   "execution_count": 46,
   "id": "54105882-e4b5-4641-a148-46d731b3363f",
   "metadata": {},
   "outputs": [
    {
     "data": {
      "text/plain": [
       "int"
      ]
     },
     "execution_count": 46,
     "metadata": {},
     "output_type": "execute_result"
    }
   ],
   "source": [
    "type(1)"
   ]
  },
  {
   "cell_type": "code",
   "execution_count": 47,
   "id": "4981287d-2987-40a7-a886-52d8996188ac",
   "metadata": {},
   "outputs": [
    {
     "ename": "NameError",
     "evalue": "name 'number' is not defined",
     "output_type": "error",
     "traceback": [
      "\u001b[0;31m---------------------------------------------------------------------------\u001b[0m",
      "\u001b[0;31mNameError\u001b[0m                                 Traceback (most recent call last)",
      "Cell \u001b[0;32mIn[47], line 1\u001b[0m\n\u001b[0;32m----> 1\u001b[0m \u001b[38;5;28mtype\u001b[39m(\u001b[43mnumber\u001b[49m)\n",
      "\u001b[0;31mNameError\u001b[0m: name 'number' is not defined"
     ]
    }
   ],
   "source": [
    "type(number)"
   ]
  },
  {
   "cell_type": "code",
   "execution_count": 48,
   "id": "6b01e6e1-5582-459c-a2f8-84b8b5e68e95",
   "metadata": {},
   "outputs": [
    {
     "data": {
      "text/plain": [
       "complex"
      ]
     },
     "execution_count": 48,
     "metadata": {},
     "output_type": "execute_result"
    }
   ],
   "source": [
    "type(1+2j)"
   ]
  },
  {
   "cell_type": "code",
   "execution_count": 49,
   "id": "92d9988b-07f6-4783-967c-c798bed282f9",
   "metadata": {},
   "outputs": [
    {
     "name": "stdout",
     "output_type": "stream",
     "text": [
      "hello\n"
     ]
    }
   ],
   "source": [
    "print('hello')"
   ]
  },
  {
   "cell_type": "code",
   "execution_count": 50,
   "id": "6a9aa556-6085-46f2-8cc6-e603c6dbaaa0",
   "metadata": {},
   "outputs": [
    {
     "name": "stdout",
     "output_type": "stream",
     "text": [
      "hello\n"
     ]
    }
   ],
   "source": [
    "print(\"hello\")"
   ]
  },
  {
   "cell_type": "code",
   "execution_count": 51,
   "id": "46173dbc-967c-4ec5-b90e-f81b47805efd",
   "metadata": {},
   "outputs": [
    {
     "data": {
      "text/plain": [
       "float"
      ]
     },
     "execution_count": 51,
     "metadata": {},
     "output_type": "execute_result"
    }
   ],
   "source": [
    "type(decimal_numb)"
   ]
  },
  {
   "cell_type": "markdown",
   "id": "ca7c924a-c4e7-4d58-bbec-67dd41573ead",
   "metadata": {},
   "source": [
    "## do not start vaiable name with numbers"
   ]
  },
  {
   "cell_type": "code",
   "execution_count": 59,
   "id": "6b1789c7-686a-4fec-8ee3-be92c5f56ba5",
   "metadata": {},
   "outputs": [
    {
     "name": "stdout",
     "output_type": "stream",
     "text": [
      "tel\n",
      "pwskills\n"
     ]
    }
   ],
   "source": [
    "company='tel'\n",
    "Company='pwskills'\n",
    "print(company)\n",
    "print(Company)"
   ]
  },
  {
   "cell_type": "code",
   "execution_count": 60,
   "id": "b11cbfaa-4a15-4e6f-bbbe-e9437f1dfc08",
   "metadata": {},
   "outputs": [
    {
     "data": {
      "text/plain": [
       "'\\nint,float,len,complex,bool,str,return,yield\\n'"
      ]
     },
     "execution_count": 60,
     "metadata": {},
     "output_type": "execute_result"
    }
   ],
   "source": [
    "## Reserved keywrods\n",
    "'''\n",
    "int,float,len,complex,bool,str,return,yield\n",
    "'''"
   ]
  },
  {
   "cell_type": "code",
   "execution_count": 61,
   "id": "7ed56ec5-d3bb-4aa5-8de0-5aea5a510883",
   "metadata": {},
   "outputs": [
    {
     "data": {
      "text/plain": [
       "True"
      ]
     },
     "execution_count": 61,
     "metadata": {},
     "output_type": "execute_result"
    }
   ],
   "source": [
    "##boolean\n",
    "True"
   ]
  },
  {
   "cell_type": "code",
   "execution_count": 62,
   "id": "e406a31c-7ba3-4b57-a41b-d0fb5060ad16",
   "metadata": {},
   "outputs": [
    {
     "data": {
      "text/plain": [
       "False"
      ]
     },
     "execution_count": 62,
     "metadata": {},
     "output_type": "execute_result"
    }
   ],
   "source": [
    "False"
   ]
  },
  {
   "cell_type": "code",
   "execution_count": 63,
   "id": "99565ed8-59e5-40ca-811a-11660fef4d2f",
   "metadata": {},
   "outputs": [
    {
     "data": {
      "text/plain": [
       "False"
      ]
     },
     "execution_count": 63,
     "metadata": {},
     "output_type": "execute_result"
    }
   ],
   "source": [
    "True and False"
   ]
  },
  {
   "cell_type": "code",
   "execution_count": 64,
   "id": "5e7671fa-1c3a-4e59-8690-eee67c9fa603",
   "metadata": {},
   "outputs": [
    {
     "data": {
      "text/plain": [
       "True"
      ]
     },
     "execution_count": 64,
     "metadata": {},
     "output_type": "execute_result"
    }
   ],
   "source": [
    "True or False"
   ]
  },
  {
   "cell_type": "code",
   "execution_count": 67,
   "id": "835196df-313a-4398-8ac1-be6d95be0e53",
   "metadata": {},
   "outputs": [
    {
     "data": {
      "text/plain": [
       "bool"
      ]
     },
     "execution_count": 67,
     "metadata": {},
     "output_type": "execute_result"
    }
   ],
   "source": [
    "type (not True)"
   ]
  },
  {
   "cell_type": "code",
   "execution_count": 66,
   "id": "47de9734-aa59-4f6c-9b7d-54361488d7a3",
   "metadata": {},
   "outputs": [
    {
     "data": {
      "text/plain": [
       "True"
      ]
     },
     "execution_count": 66,
     "metadata": {},
     "output_type": "execute_result"
    }
   ],
   "source": [
    "not False"
   ]
  },
  {
   "cell_type": "code",
   "execution_count": 68,
   "id": "8bc489ec-65d1-4b52-82d9-60268b0d3207",
   "metadata": {},
   "outputs": [
    {
     "data": {
      "text/plain": [
       "False"
      ]
     },
     "execution_count": 68,
     "metadata": {},
     "output_type": "execute_result"
    }
   ],
   "source": [
    "bool(0)"
   ]
  },
  {
   "cell_type": "code",
   "execution_count": 69,
   "id": "3f520041-7b66-47ef-a5f5-5dc73683ab52",
   "metadata": {},
   "outputs": [
    {
     "data": {
      "text/plain": [
       "True"
      ]
     },
     "execution_count": 69,
     "metadata": {},
     "output_type": "execute_result"
    }
   ],
   "source": [
    "bool(1)"
   ]
  },
  {
   "cell_type": "code",
   "execution_count": 76,
   "id": "97e93e93-ca28-4d51-a201-e213deb5d5b9",
   "metadata": {},
   "outputs": [
    {
     "ename": "SyntaxError",
     "evalue": "invalid syntax (3719500846.py, line 2)",
     "output_type": "error",
     "traceback": [
      "\u001b[0;36m  Cell \u001b[0;32mIn[76], line 2\u001b[0;36m\u001b[0m\n\u001b[0;31m    If bool(a)==True:print(\"True\")\u001b[0m\n\u001b[0m       ^\u001b[0m\n\u001b[0;31mSyntaxError\u001b[0m\u001b[0;31m:\u001b[0m invalid syntax\n"
     ]
    }
   ],
   "source": []
  },
  {
   "cell_type": "code",
   "execution_count": 75,
   "id": "b3bf438d-4636-4b38-bc3f-9cd529426abb",
   "metadata": {},
   "outputs": [
    {
     "data": {
      "text/plain": [
       "int"
      ]
     },
     "execution_count": 75,
     "metadata": {},
     "output_type": "execute_result"
    }
   ],
   "source": [
    "type(34)"
   ]
  },
  {
   "cell_type": "markdown",
   "id": "c6ee765c-5574-4720-96fb-c1c4bedbfcec",
   "metadata": {},
   "source": [
    "### Dynamic Typing"
   ]
  },
  {
   "cell_type": "code",
   "execution_count": 77,
   "id": "42977d48-0f97-46eb-b29d-108945269710",
   "metadata": {},
   "outputs": [],
   "source": [
    "a=1\n",
    "strl=\"nag\"\n",
    "a=\"var\""
   ]
  },
  {
   "cell_type": "code",
   "execution_count": 78,
   "id": "402bbadb-2469-488d-a6d5-3c258cc665fd",
   "metadata": {},
   "outputs": [
    {
     "name": "stdout",
     "output_type": "stream",
     "text": [
      "<class 'str'>\n"
     ]
    }
   ],
   "source": [
    "print(type(a))"
   ]
  },
  {
   "cell_type": "code",
   "execution_count": 80,
   "id": "e09b33c9-d0aa-488d-aad0-aa4b6c45996d",
   "metadata": {},
   "outputs": [
    {
     "data": {
      "text/plain": [
       "1"
      ]
     },
     "execution_count": 80,
     "metadata": {},
     "output_type": "execute_result"
    }
   ],
   "source": [
    "int(1.8)"
   ]
  },
  {
   "cell_type": "code",
   "execution_count": 81,
   "id": "ca918163-4cd0-476d-972d-8a38c3524e02",
   "metadata": {},
   "outputs": [],
   "source": [
    "## concantenation between different types"
   ]
  },
  {
   "cell_type": "code",
   "execution_count": 84,
   "id": "f5342491-8d4e-42b1-878c-8806a9fe323b",
   "metadata": {},
   "outputs": [
    {
     "data": {
      "text/plain": [
       "2"
      ]
     },
     "execution_count": 84,
     "metadata": {},
     "output_type": "execute_result"
    }
   ],
   "source": [
    "int('1')+int('1')"
   ]
  },
  {
   "cell_type": "code",
   "execution_count": 87,
   "id": "2d51a9cb-0b76-4bc6-94a2-5095b389308a",
   "metadata": {},
   "outputs": [
    {
     "data": {
      "text/plain": [
       "'100'"
      ]
     },
     "execution_count": 87,
     "metadata": {},
     "output_type": "execute_result"
    }
   ],
   "source": [
    "'100'*1"
   ]
  },
  {
   "cell_type": "code",
   "execution_count": 88,
   "id": "4ea58f7f-598b-4c88-8a40-73af2508dca8",
   "metadata": {},
   "outputs": [],
   "source": [
    "type=bool(-2)"
   ]
  },
  {
   "cell_type": "code",
   "execution_count": 89,
   "id": "a7d289ae-717f-4eb8-a356-c88019f9a6fd",
   "metadata": {},
   "outputs": [],
   "source": [
    "x=5"
   ]
  },
  {
   "cell_type": "code",
   "execution_count": 90,
   "id": "59f99261-be04-4686-aede-325491e36e8e",
   "metadata": {},
   "outputs": [
    {
     "name": "stdout",
     "output_type": "stream",
     "text": [
      "5\n"
     ]
    }
   ],
   "source": [
    "print(x)"
   ]
  },
  {
   "cell_type": "code",
   "execution_count": 91,
   "id": "3e9be92f-b172-47b7-a33c-1a2d2ac4a0de",
   "metadata": {},
   "outputs": [
    {
     "data": {
      "text/plain": [
       "5"
      ]
     },
     "execution_count": 91,
     "metadata": {},
     "output_type": "execute_result"
    }
   ],
   "source": [
    "x"
   ]
  },
  {
   "cell_type": "code",
   "execution_count": 92,
   "id": "afd466fd-0503-4ccd-9b16-38b4e29e76d4",
   "metadata": {},
   "outputs": [
    {
     "ename": "SyntaxError",
     "evalue": "invalid decimal literal (1973045331.py, line 1)",
     "output_type": "error",
     "traceback": [
      "\u001b[0;36m  Cell \u001b[0;32mIn[92], line 1\u001b[0;36m\u001b[0m\n\u001b[0;31m    1x\u001b[0m\n\u001b[0m    ^\u001b[0m\n\u001b[0;31mSyntaxError\u001b[0m\u001b[0;31m:\u001b[0m invalid decimal literal\n"
     ]
    }
   ],
   "source": [
    "1x"
   ]
  },
  {
   "cell_type": "code",
   "execution_count": null,
   "id": "f2425ca4-29ca-4c6a-a5cf-d29717440536",
   "metadata": {},
   "outputs": [],
   "source": [
    "name = Ryan\n",
    "t"
   ]
  }
 ],
 "metadata": {
  "kernelspec": {
   "display_name": "Python 3 (ipykernel)",
   "language": "python",
   "name": "python3"
  },
  "language_info": {
   "codemirror_mode": {
    "name": "ipython",
    "version": 3
   },
   "file_extension": ".py",
   "mimetype": "text/x-python",
   "name": "python",
   "nbconvert_exporter": "python",
   "pygments_lexer": "ipython3",
   "version": "3.10.8"
  }
 },
 "nbformat": 4,
 "nbformat_minor": 5
}
