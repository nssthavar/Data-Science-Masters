{
 "cells": [
  {
   "cell_type": "markdown",
   "id": "12655444-cbd6-4ddd-b2d0-d0d995d90d78",
   "metadata": {},
   "source": [
    "#### Q1. Explain Class and Object with respect to Object-Oriented Programming. Give a suitable example.\n",
    "\n",
    "In object-oriented programming, a class is a blueprint for creating objects that share common attributes and behaviors. An object is an instance of a class that has its own unique state and behavior.\n",
    "\n",
    "A class defines a set of properties (attributes or data members) and methods (functions or operations) that describe the behavior and characteristics of objects created from that class. The properties define the state of an object, while the methods define the actions or operations that can be performed on the object.\n",
    "\n",
    "For example, let's consider a class called \"Car\". The Car class can have properties such as \"color\", \"make\", \"model\", \"year\", and \"price\", which define the state of a car object. The Car class can also have methods such as \"start\", \"stop\", \"accelerate\", and \"brake\", which define the behavior of a car object.\n",
    "\n",
    "To create an object of the Car class, we can use the class as a template and create an instance of it, which is known as an object. For example, we can create an object called \"my_car\" by instantiating the Car class:"
   ]
  },
  {
   "cell_type": "code",
   "execution_count": 1,
   "id": "b5eedf0c-e502-49df-b904-abc8c97e7171",
   "metadata": {},
   "outputs": [],
   "source": [
    "class Car:\n",
    "    def __init__(self, color, make, model, year, price):\n",
    "        self.color = color\n",
    "        self.make = make\n",
    "        self.model = model\n",
    "        self.year = year\n",
    "        self.price = price\n",
    "\n",
    "    def start(self):\n",
    "        print(\"Starting the car\")\n",
    "\n",
    "    def stop(self):\n",
    "        print(\"Stopping the car\")\n",
    "\n",
    "    def accelerate(self):\n",
    "        print(\"Accelerating the car\")\n",
    "\n",
    "    def brake(self):\n",
    "        print(\"Applying the brakes\")\n",
    "\n",
    "my_car = Car(\"Red\", \"Honda\", \"Civic\", 2020, 20000)"
   ]
  },
  {
   "cell_type": "code",
   "execution_count": 5,
   "id": "f67b8090-68e4-443d-bcfd-b9f38e9e4036",
   "metadata": {},
   "outputs": [
    {
     "name": "stdout",
     "output_type": "stream",
     "text": [
      "Red\n",
      "Starting the car\n",
      "Applying the brakes\n"
     ]
    },
    {
     "data": {
      "text/plain": [
       "20000"
      ]
     },
     "execution_count": 5,
     "metadata": {},
     "output_type": "execute_result"
    }
   ],
   "source": [
    "print(my_car.color)  # Output: Red\n",
    "my_car.start()  # Output: Starting the car\n",
    "my_car.brake()\n",
    "my_car.price"
   ]
  },
  {
   "cell_type": "markdown",
   "id": "ea0127e5-85a1-4caa-bb95-3f6974dacfdd",
   "metadata": {},
   "source": [
    "####\n",
    "In this example, we have defined a Car class with properties such as \"color\", \"make\", \"model\", \"year\", and \"price\", and methods such as \"start\", \"stop\", \"accelerate\", and \"brake\". We have then created an instance of the Car class called \"my_car\", which has its own unique state and behavior based on the values we passed to its constructor.\n",
    "\n",
    "We can access the properties and methods of the \"my_car\" object using dot notation:\n",
    "\n",
    "In summary, a class is a template for creating objects, while an object is an instance of a class with its own unique state and behavior."
   ]
  },
  {
   "cell_type": "markdown",
   "id": "9655c972-059f-4399-abb8-d3759fb77c4e",
   "metadata": {},
   "source": [
    "#### Q2. Name the four pillars of OOPs.\n",
    "\n",
    "1. Encapsulation: It is the mechanism of hiding the internal details of an object and exposing only the necessary information to the outside world. Encapsulation protects the data from being accessed and modified by external code and ensures that it can only be manipulated through well-defined interfaces.\n",
    "\n",
    "2. Inheritance: It is the mechanism of creating a new class (derived class) from an existing class (base class) and inheriting its properties and methods. Inheritance promotes code reuse and allows for the creation of more specialized classes from more general ones.\n",
    "\n",
    "3. Polymorphism: It is the ability of objects of different classes to be used interchangeably, as long as they implement the same interface or inherit from the same base class. Polymorphism enables code flexibility and allows for generic programming.\n",
    "\n",
    "4. Abstraction: It is the process of identifying essential features and behaviors of an object, and ignoring or hiding everything else. Abstraction helps manage complexity by focusing on what is important and eliminating unnecessary details."
   ]
  },
  {
   "cell_type": "raw",
   "id": "ca6c9203-49a2-4f0e-b4b1-6cdbd1f76479",
   "metadata": {},
   "source": [
    "Q3. Explain why the __init__() function is used. Give a suitable example.\n",
    "\n",
    "In Object-Oriented Programming (OOP), the __init__() function is a special method that is called when an object of a class is created. The purpose of __init__() method is to initialize the instance variables or attributes of an object when it is instantiated.\n",
    "\n",
    "The __init__() method takes the self parameter, which refers to the object being created, as well as any additional parameters that are required to initialize the object's attributes. The self parameter is a reference to the object that is being created, and is used to access the object's attributes and methods.\n",
    "\n",
    "For example, let's consider a class called Person that has three attributes: name, age, and gender. To initialize these attributes, we can define an __init__() method that takes these attributes as parameters and assigns them to the corresponding instance variables:\n",
    "\n",
    "class Person:\n",
    "    def __init__(self, name, age, gender):\n",
    "        self.name = name\n",
    "        self.age = age\n",
    "        self.gender = gender\n",
    "\n",
    "In this example, the Person class has an __init__() method that takes three parameters: name, age, and gender. The method initializes the instance variables name, age, and gender with the values passed as arguments.\n",
    "\n",
    "To create an object of the Person class, we can call the class and pass the required parameters to the constructor:\n",
    "\n",
    "person1 = Person(\"John\", 25, \"Male\")\n",
    "\n",
    "In this example, we create an object called person1 of the Person class, and pass the parameters \"John\", 25, and \"Male\" to the constructor. The __init__() method is called automatically when the object is created, and initializes the instance variables name, age, and gender with the corresponding values.\n",
    "\n",
    "We can access the instance variables of the person1 object using dot notation:\n",
    "\n",
    "print(person1.name)    # Output: John\n",
    "print(person1.age)     # Output: 25\n",
    "print(person1.gender)  # Output: Male\n",
    "\n",
    "In summary, the __init__() method is used to initialize the attributes of an object when it is created, and takes the self parameter and any additional parameters required to initialize the object's attributes."
   ]
  },
  {
   "cell_type": "code",
   "execution_count": 16,
   "id": "de5511ef-b3f1-4882-ab3f-cd7f29e9e66b",
   "metadata": {},
   "outputs": [],
   "source": [
    "class Person:\n",
    "    def __init__(self, name, age, gender):\n",
    "        self.name = name\n",
    "        self.age = age\n",
    "        self.gender = gender"
   ]
  },
  {
   "cell_type": "code",
   "execution_count": 17,
   "id": "65ae77d7-6843-450a-b989-f0f7973facb6",
   "metadata": {},
   "outputs": [],
   "source": [
    "person1 = Person(\"Raj\", 33, \"Male\")"
   ]
  },
  {
   "cell_type": "code",
   "execution_count": 19,
   "id": "a8328b3a-a1c7-4b81-9f7a-75214dc45650",
   "metadata": {},
   "outputs": [
    {
     "name": "stdout",
     "output_type": "stream",
     "text": [
      "Raj\n",
      "33\n",
      "Male\n"
     ]
    }
   ],
   "source": [
    "print(person1.name)    # Output: Raj\n",
    "print(person1.age)     # Output: 33\n",
    "print(person1.gender)  # Output: Male"
   ]
  },
  {
   "cell_type": "raw",
   "id": "cfb7fbcc-e6b8-4d5e-8295-854917569417",
   "metadata": {},
   "source": [
    "Q4. Why self is used in OOPs?\n",
    "\n",
    "In Object-Oriented Programming (OOP), self is a reference to the object that is being operated on or accessed. It is a convention in Python to use self as the first parameter in the definition of instance methods.\n",
    "\n",
    "When a method is called on an object, the object itself is automatically passed as the first argument to the method. This allows the method to access and manipulate the object's attributes and call its other methods.\n",
    "\n",
    "For example, consider the following Person class:\n",
    "\n",
    "class Person:\n",
    "    def __init__(self, name, age):\n",
    "        self.name = name\n",
    "        self.age = age\n",
    "\n",
    "    def say_hello(self):\n",
    "        print(\"Hello, my name is\", self.name)\n",
    "\n",
    "\n",
    "In Object-Oriented Programming (OOP), self is a reference to the object that is being operated on or accessed. It is a convention in Python to use self as the first parameter in the definition of instance methods.\n",
    "\n",
    "When a method is called on an object, the object itself is automatically passed as the first argument to the method. This allows the method to access and manipulate the object's attributes and call its other methods.\n",
    "\n",
    "For example, consider the following Person class:\n",
    "\n",
    "class Person:\n",
    "    def __init__(self, name, age):\n",
    "        self.name = name\n",
    "        self.age = age\n",
    "\n",
    "    def say_hello(self):\n",
    "        print(\"Hello, my name is\", self.name)\n",
    "        \n",
    "In this example, the Person class has an __init__() method that takes two parameters name and age, and initializes the instance variables name and age with these parameters. The class also has a method called say_hello() that prints out a greeting using the name instance variable.\n",
    "\n",
    "When we create an object of the Person class and call the say_hello() method, we need to pass the object itself as the first argument. However, because self is automatically passed as the first argument to instance methods, we don't need to explicitly pass the object:\n",
    "\n",
    "person1 = Person(\"John\", 25)\n",
    "person1.say_hello()  # Output: Hello, my name is John\n",
    "\n",
    "In this example, we create an object person1 of the Person class and call its say_hello() method. Because say_hello() is an instance method, self is automatically passed as the first argument, and self.name is used to access the object's name attribute.\n",
    "\n",
    "In summary, self is used in OOP to refer to the object that is being operated on or accessed. It is a convention in Python to use self as the first parameter in the definition of instance methods, and allows the method to access and manipulate the object's attributes and call its other methods."
   ]
  },
  {
   "cell_type": "code",
   "execution_count": 14,
   "id": "c0ebba6c-e6e1-4705-a592-e4a34f02d335",
   "metadata": {},
   "outputs": [],
   "source": [
    "class Person:\n",
    "    def __init__(self, name, age):\n",
    "        self.name = name\n",
    "        self.age = age\n",
    "\n",
    "    def say_hello(self):\n",
    "        print(\"Hello, my name is\", self.name)"
   ]
  },
  {
   "cell_type": "code",
   "execution_count": 15,
   "id": "769f095b-5507-4075-b37a-df2c829fb7c4",
   "metadata": {},
   "outputs": [
    {
     "name": "stdout",
     "output_type": "stream",
     "text": [
      "Hello, my name is Raj\n"
     ]
    }
   ],
   "source": [
    "person1 = Person(\"Raj\", 25)\n",
    "person1.say_hello()"
   ]
  },
  {
   "cell_type": "raw",
   "id": "47328291-b096-4bf5-8fe1-4e5d313a5af4",
   "metadata": {},
   "source": [
    "Q5. What is inheritance? Give an example for each type of inheritance.\n",
    "\n",
    "Inheritance is a concept in Object-Oriented Programming (OOP) that allows one class to inherit properties and methods from another class. The class that inherits from another class is called the child or subclass, and the class that is inherited from is called the parent or superclass.\n",
    "\n",
    "There are four types of inheritance in Python:\n",
    "\n",
    "1. Single Inheritance: In single inheritance, a child class inherits from a single parent class. This is the most common type of inheritance.\n",
    "Example:\n",
    "\n",
    "class Animal:\n",
    "    def __init__(self, name, species):\n",
    "        self.name = name\n",
    "        self.species = species\n",
    "\n",
    "    def make_sound(self):\n",
    "        pass\n",
    "\n",
    "class Dog(Animal):\n",
    "    def __init__(self, name, breed):\n",
    "        super().__init__(name, species=\"Dog\")\n",
    "        self.breed = breed\n",
    "\n",
    "    def make_sound(self):\n",
    "        return \"Woof!\"\n",
    "\n",
    "In this example, the Dog class inherits from the Animal class. The Dog class has an additional attribute breed and an overridden make_sound() method that returns \"Woof!\".\n",
    "\n",
    "2. Multiple Inheritance: In multiple inheritance, a child class inherits from multiple parent classes.\n",
    "\n",
    "Example:\n",
    "\n",
    "class Car:\n",
    "    def start_engine(self):\n",
    "        pass\n",
    "\n",
    "class Airplane:\n",
    "    def fly(self):\n",
    "        pass\n",
    "\n",
    "class FlyingCar(Car, Airplane):\n",
    "    pass\n",
    "\n",
    "In this example, the FlyingCar class inherits from both the Car and Airplane classes.\n",
    "\n",
    "3. Multi-Level Inheritance: In multi-level inheritance, a child class inherits from a parent class, which in turn inherits from another parent class.\n",
    "\n",
    "Example:\n",
    "\n",
    "class Animal:\n",
    "    def __init__(self, name, species):\n",
    "        self.name = name\n",
    "        self.species = species\n",
    "\n",
    "    def make_sound(self):\n",
    "        pass\n",
    "\n",
    "class Mammal(Animal):\n",
    "    def feed_young_with_milk(self):\n",
    "        pass\n",
    "\n",
    "class Dog(Mammal):\n",
    "    def __init__(self, name, breed):\n",
    "        super().__init__(name, species=\"Dog\")\n",
    "        self.breed = breed\n",
    "\n",
    "    def make_sound(self):\n",
    "        return \"Woof!\"\n",
    "\n",
    "In this example, the Dog class inherits from the Mammal class, which in turn inherits from the Animal class.\n",
    "\n",
    "4. Hierarchical Inheritance: In hierarchical inheritance, multiple child classes inherit from a single parent class.\n",
    "Example:\n",
    "\n",
    "class Shape:\n",
    "    def calculate_area(self):\n",
    "        pass\n",
    "\n",
    "class Square(Shape):\n",
    "    def __init__(self, side_length):\n",
    "        self.side_length = side_length\n",
    "\n",
    "    def calculate_area(self):\n",
    "        return self.side_length ** 2\n",
    "\n",
    "class Rectangle(Shape):\n",
    "    def __init__(self, length, width):\n",
    "        self.length = length\n",
    "        self.width = width\n",
    "\n",
    "    def calculate_area(self):\n",
    "        return self.length * self.width\n",
    "        \n",
    "\n",
    "In this example, both the Square and Rectangle classes inherit from the Shape class, and both have their own implementations of the calculate_area() method.\n",
    "\n",
    "In summary, inheritance is a powerful concept in OOP that allows classes to inherit properties and methods from other classes. There are four types of inheritance in Python: single inheritance, multiple inheritance, multi-level inheritance, and hierarchical inheritance."
   ]
  },
  {
   "cell_type": "code",
   "execution_count": 20,
   "id": "5b8f4781-056e-4740-9fa4-11fd78958a78",
   "metadata": {},
   "outputs": [],
   "source": [
    "## Single Inheritance\n",
    "\n",
    "class Animal:\n",
    "    def __init__(self, name, species):\n",
    "        self.name = name\n",
    "        self.species = species\n",
    "\n",
    "    def make_sound(self):\n",
    "        pass\n",
    "\n",
    "class Dog(Animal):\n",
    "    def __init__(self, name, breed):\n",
    "        super().__init__(name, species=\"Dog\")\n",
    "        self.breed = breed\n",
    "\n",
    "    def make_sound(self):\n",
    "        return \"Woof!\""
   ]
  },
  {
   "cell_type": "code",
   "execution_count": 21,
   "id": "9417e544-9121-434d-bd20-2b49f52c2000",
   "metadata": {},
   "outputs": [],
   "source": [
    "## Multiple Inheritance\n",
    "\n",
    "class Car:\n",
    "    def start_engine(self):\n",
    "        pass\n",
    "\n",
    "class Airplane:\n",
    "    def fly(self):\n",
    "        pass\n",
    "\n",
    "class FlyingCar(Car, Airplane):\n",
    "    pass"
   ]
  },
  {
   "cell_type": "code",
   "execution_count": 22,
   "id": "c94d134a-f6c5-44ff-b2a7-9e2d8f36b43c",
   "metadata": {},
   "outputs": [],
   "source": [
    "## Multi-Level Inheritance\n",
    "\n",
    "class Animal:\n",
    "    def __init__(self, name, species):\n",
    "        self.name = name\n",
    "        self.species = species\n",
    "\n",
    "    def make_sound(self):\n",
    "        pass\n",
    "\n",
    "class Mammal(Animal):\n",
    "    def feed_young_with_milk(self):\n",
    "        pass\n",
    "\n",
    "class Dog(Mammal):\n",
    "    def __init__(self, name, breed):\n",
    "        super().__init__(name, species=\"Dog\")\n",
    "        self.breed = breed\n",
    "\n",
    "    def make_sound(self):\n",
    "        return \"Woof!\""
   ]
  },
  {
   "cell_type": "code",
   "execution_count": null,
   "id": "daec50fa-bb75-4c51-b8f0-a97d863a38f9",
   "metadata": {},
   "outputs": [],
   "source": [
    "## Hierarchical Inheritance\n",
    "\n",
    "class Shape:\n",
    "    def calculate_area(self):\n",
    "        pass\n",
    "\n",
    "class Square(Shape):\n",
    "    def __init__(self, side_length):\n",
    "        self.side_length = side_length\n",
    "\n",
    "    def calculate_area(self):\n",
    "        return self.side_length ** 2\n",
    "\n",
    "class Rectangle(Shape):\n",
    "    def __init__(self, length, width):\n",
    "        self.length = length\n",
    "        self.width = width\n",
    "\n",
    "    def calculate_area(self):\n",
    "        return self.length * self.width"
   ]
  }
 ],
 "metadata": {
  "kernelspec": {
   "display_name": "Python 3 (ipykernel)",
   "language": "python",
   "name": "python3"
  },
  "language_info": {
   "codemirror_mode": {
    "name": "ipython",
    "version": 3
   },
   "file_extension": ".py",
   "mimetype": "text/x-python",
   "name": "python",
   "nbconvert_exporter": "python",
   "pygments_lexer": "ipython3",
   "version": "3.10.8"
  }
 },
 "nbformat": 4,
 "nbformat_minor": 5
}
