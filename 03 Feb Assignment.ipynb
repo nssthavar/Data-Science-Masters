{
 "cells": [
  {
   "cell_type": "markdown",
   "id": "ad0e54f9-7f73-4489-8482-b411d412aa95",
   "metadata": {},
   "source": [
    "##### Q1. Which keyword is used to create a function? Create a function to return a list of odd numbers in the range of 1 to 25.\n",
    "The keyword used to create a function in Python is \"def\".\n",
    "Here's an example of a Python function that returns a list of odd numbers in the range of 1 to 25:"
   ]
  },
  {
   "cell_type": "code",
   "execution_count": 2,
   "id": "3e69344a-7da9-4de6-9def-4d9b8ed40f0d",
   "metadata": {},
   "outputs": [
    {
     "name": "stdout",
     "output_type": "stream",
     "text": [
      "[1, 3, 5, 7, 9, 11, 13, 15, 17, 19, 21, 23, 25]\n"
     ]
    }
   ],
   "source": [
    "def odd_numbers():\n",
    "    odd_nums = []\n",
    "    for i in range(1, 26):\n",
    "        if i % 2 != 0:\n",
    "            odd_nums.append(i)\n",
    "    return odd_nums\n",
    "\n",
    "# call the function\n",
    "print(odd_numbers())"
   ]
  },
  {
   "cell_type": "markdown",
   "id": "a6919378-16c1-4c7d-a0bd-20c5de8fe265",
   "metadata": {},
   "source": [
    "#### Q2. Why *args and **kwargs is used in some functions? Create a function each for *args and **kwargs to demonstrate their use.\n",
    "\n",
    "*args and **kwargs are special syntax in Python that allow you to pass a variable number of arguments to a function.\n",
    "\n",
    "*args is used to pass a variable number of non-keyword arguments to a function. It allows you to pass any number of positional arguments, which are then packed into a tuple inside the function. This is useful when you don't know how many arguments the function will need to handle.\n",
    "\n",
    "**kwargs is used to pass a variable number of keyword arguments to a function. It allows you to pass any number of keyword arguments, which are then packed into a dictionary inside the function. This is useful when you want to pass a lot of optional arguments to a function.\n",
    "\n",
    "Note that the names *args and **kwargs are just conventions and you can use any name you like for these arguments. The * and ** operators are what give them their special meaning."
   ]
  },
  {
   "cell_type": "code",
   "execution_count": 3,
   "id": "c2583282-d3c2-4add-a0b9-31a36edc3f20",
   "metadata": {},
   "outputs": [
    {
     "name": "stdout",
     "output_type": "stream",
     "text": [
      "6\n",
      "150\n"
     ]
    }
   ],
   "source": [
    "def sum_args(*args):\n",
    "    total = 0\n",
    "    for arg in args:\n",
    "        total += arg\n",
    "    return total\n",
    "\n",
    "# Example usage:\n",
    "print(sum_args(1, 2, 3)) # Output: 6\n",
    "print(sum_args(10, 20, 30, 40, 50)) # Output: 150"
   ]
  },
  {
   "cell_type": "code",
   "execution_count": 4,
   "id": "1c79fc6b-26a9-4876-92fd-40e02dad19d0",
   "metadata": {},
   "outputs": [
    {
     "name": "stdout",
     "output_type": "stream",
     "text": [
      "name: John\n",
      "age: 25\n",
      "city: New York\n"
     ]
    }
   ],
   "source": [
    "def print_kwargs(**kwargs):\n",
    "    for key, value in kwargs.items():\n",
    "        print(f\"{key}: {value}\")\n",
    "\n",
    "# Example usage:\n",
    "print_kwargs(name=\"John\", age=25, city=\"New York\")"
   ]
  },
  {
   "cell_type": "markdown",
   "id": "14644df9-4761-45a2-a05d-333189cc960c",
   "metadata": {},
   "source": [
    "#### Q3. What is an iterator in python? Name the method used to initialise the iterator object and the method used for iteration. Use these methods to print the first five elements of the given list [2, 4, 6, 8, 10, 12, 14, 16,18, 20].\n",
    "\n",
    "In Python, an iterator is an object that implements the iterator protocol, which consists of the __iter__() and __next__() methods. The __iter__() method returns the iterator object itself, and the __next__() method returns the next element in the sequence. When there are no more elements in the sequence, the __next__() method should raise the StopIteration exception.\n",
    "\n",
    "Note that if you try to iterate over more elements than there are in the sequence, the StopIteration exception will be raised. You can catch this exception to gracefully handle the end of the sequence.\n",
    "\n"
   ]
  },
  {
   "cell_type": "code",
   "execution_count": 5,
   "id": "dd5b31cd-0d90-4462-ae71-ade542ba60a6",
   "metadata": {},
   "outputs": [
    {
     "name": "stdout",
     "output_type": "stream",
     "text": [
      "2\n",
      "4\n",
      "6\n",
      "8\n",
      "10\n"
     ]
    }
   ],
   "source": [
    "my_list = [2, 4, 6, 8, 10, 12, 14, 16, 18, 20]\n",
    "\n",
    "# create an iterator object\n",
    "my_iterator = iter(my_list)\n",
    "\n",
    "# iterate over the first five elements using the next() function\n",
    "for i in range(5):\n",
    "    print(next(my_iterator))"
   ]
  },
  {
   "cell_type": "markdown",
   "id": "fea665b3-5802-47a8-95b2-6dab1bc7185c",
   "metadata": {},
   "source": [
    "#### Q4. What is a generator function in python? Why yield keyword is used? Give an example of a generator function.\n",
    "\n",
    "A generator function in Python is a special type of function that uses the yield keyword to return a generator object. When a generator function is called, it returns an iterator that can be used to iterate over a sequence of values. However, unlike regular functions that return a value and then terminate, generator functions can be paused and resumed, allowing them to generate a sequence of values on-the-fly, as they are requested.\n",
    "\n",
    "The yield keyword is used to temporarily suspend the execution of a generator function and return a value to the caller. When the generator function is resumed, it picks up where it left off and continues executing until it reaches the next yield statement.\n",
    "\n",
    "Note that because generator functions generate values on-the-fly, they can be more memory-efficient than regular functions that generate an entire sequence at once. They can also be more flexible, since they allow you to generate infinite sequences, or sequences that depend on complex logic or external data sources.\n",
    "\n",
    "\n",
    "\n",
    "\n"
   ]
  },
  {
   "cell_type": "code",
   "execution_count": 6,
   "id": "b0d2bf23-8021-449a-99e8-fad785c84eb9",
   "metadata": {},
   "outputs": [
    {
     "name": "stdout",
     "output_type": "stream",
     "text": [
      "5\n",
      "4\n",
      "3\n",
      "2\n",
      "1\n",
      "0\n"
     ]
    }
   ],
   "source": [
    "def countdown(n):\n",
    "    while n >= 0:\n",
    "        yield n\n",
    "        n -= 1\n",
    "\n",
    "# Example usage:\n",
    "for i in countdown(5):\n",
    "    print(i)"
   ]
  },
  {
   "cell_type": "markdown",
   "id": "aca72ee5-0457-4b89-895e-ebecb2da8bc2",
   "metadata": {},
   "source": [
    "#### Q5. Create a generator function for prime numbers less than 1000. Use the next() method to print the first 20 prime numbers."
   ]
  },
  {
   "cell_type": "code",
   "execution_count": 7,
   "id": "a9b7067b-cb40-4275-91ad-0a1c5b7a6b68",
   "metadata": {},
   "outputs": [
    {
     "name": "stdout",
     "output_type": "stream",
     "text": [
      "2\n",
      "3\n",
      "5\n",
      "7\n",
      "11\n",
      "13\n",
      "17\n",
      "19\n",
      "23\n",
      "29\n",
      "31\n",
      "37\n",
      "41\n",
      "43\n",
      "47\n",
      "53\n",
      "59\n",
      "61\n",
      "67\n",
      "71\n"
     ]
    }
   ],
   "source": [
    "def primes():\n",
    "    # start with the first prime number\n",
    "    num = 2\n",
    "    \n",
    "    while True:\n",
    "        # check if num is prime\n",
    "        for i in range(2, num):\n",
    "            if num % i == 0:\n",
    "                break\n",
    "        else:\n",
    "            # num is prime, yield it to the caller\n",
    "            yield num\n",
    "        \n",
    "        # increment num and repeat\n",
    "        num += 1\n",
    "\n",
    "# create a generator object\n",
    "prime_generator = primes()\n",
    "\n",
    "# print the first 20 prime numbers using the next() method\n",
    "for i in range(20):\n",
    "    print(next(prime_generator))"
   ]
  },
  {
   "cell_type": "code",
   "execution_count": null,
   "id": "2a0c96bb-03db-413f-a627-1af323805966",
   "metadata": {},
   "outputs": [],
   "source": []
  }
 ],
 "metadata": {
  "kernelspec": {
   "display_name": "Python 3 (ipykernel)",
   "language": "python",
   "name": "python3"
  },
  "language_info": {
   "codemirror_mode": {
    "name": "ipython",
    "version": 3
   },
   "file_extension": ".py",
   "mimetype": "text/x-python",
   "name": "python",
   "nbconvert_exporter": "python",
   "pygments_lexer": "ipython3",
   "version": "3.10.8"
  }
 },
 "nbformat": 4,
 "nbformat_minor": 5
}
