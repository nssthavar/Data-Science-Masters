{
 "cells": [
  {
   "cell_type": "markdown",
   "id": "e9e0563b-a838-45df-b65d-c454b80bc97d",
   "metadata": {},
   "source": [
    "# 30th Jan 2023 Assignment"
   ]
  },
  {
   "cell_type": "code",
   "execution_count": null,
   "id": "ae6268b4-944a-427a-88f7-4b677dcff438",
   "metadata": {},
   "outputs": [],
   "source": [
    "#1. Write a program to accept percentage from the user and display the grade according to the following \n",
    "criteria: \n",
    "Marks \n",
    "Grade \n",
    ">90 \n",
    "A \n",
    ">80 and <=90 \n",
    "B \n",
    ">=60 and <=80 \n",
    "C \n",
    "below 60 \n",
    "D"
   ]
  },
  {
   "cell_type": "code",
   "execution_count": 4,
   "id": "58c0086e-37d7-4c08-8b06-2e7a9baabf01",
   "metadata": {},
   "outputs": [
    {
     "name": "stdin",
     "output_type": "stream",
     "text": [
      "Enter percentage:  83\n"
     ]
    },
    {
     "name": "stdout",
     "output_type": "stream",
     "text": [
      "Grade:  B\n"
     ]
    }
   ],
   "source": [
    "percentage = float(input(\"Enter percentage: \"))\n",
    "\n",
    "if percentage > 90:\n",
    "    grade = 'A'\n",
    "elif percentage > 80 and percentage <= 90:\n",
    "    grade = 'B'\n",
    "elif percentage >= 60 and percentage <= 80:\n",
    "    grade = 'C'\n",
    "else:\n",
    "    grade = 'D'\n",
    "\n",
    "print(\"Grade: \", grade)"
   ]
  },
  {
   "cell_type": "code",
   "execution_count": null,
   "id": "f87fa74d-e7be-46a5-a5a2-fd9c2df082da",
   "metadata": {},
   "outputs": [],
   "source": [
    "Write a program to accept the cost price of a bike and display the road tax to be paid according to the \n",
    "following criteria: \n",
    "Tax \n",
    "15% \n",
    "10% \n",
    "5% \n",
    "Cost Price(in Rs) \n",
    ">100000 \n",
    "5 \n",
    "50000 and <= 100000 \n",
    "<= 50000 "
   ]
  },
  {
   "cell_type": "code",
   "execution_count": 11,
   "id": "8fa3ce5f-edcd-41b9-89c3-b67d27db9bad",
   "metadata": {},
   "outputs": [
    {
     "name": "stdin",
     "output_type": "stream",
     "text": [
      "Enter price_of_a_bike:  50000\n"
     ]
    },
    {
     "name": "stdout",
     "output_type": "stream",
     "text": [
      "Tax:  5%\n"
     ]
    }
   ],
   "source": [
    "price_of_a_bike = float(input(\"Enter price_of_a_bike: \"))\n",
    "\n",
    "if price_of_a_bike > 100000:\n",
    "    Tax = '15%'\n",
    "elif price_of_a_bike > 50000 and price_of_a_bike <= 100000:\n",
    "    Tax = '10%'\n",
    "else:\n",
    "    Tax = '5%'\n",
    "\n",
    "print(\"Tax: \", Tax)"
   ]
  },
  {
   "cell_type": "code",
   "execution_count": 13,
   "id": "137e0b8b-a7a1-4376-89b5-1307bfe8649e",
   "metadata": {},
   "outputs": [
    {
     "name": "stdin",
     "output_type": "stream",
     "text": [
      "Enter the cost price of the bike (in Rs):  45000\n"
     ]
    },
    {
     "name": "stdout",
     "output_type": "stream",
     "text": [
      "Road tax to be paid (in Rs):  2250.0\n"
     ]
    }
   ],
   "source": [
    "cost_price = float(input(\"Enter the cost price of the bike (in Rs): \"))\n",
    "\n",
    "if cost_price > 100000:\n",
    "    road_tax = cost_price * 0.15\n",
    "elif cost_price > 50000 and cost_price <= 100000:\n",
    "    road_tax = cost_price * 0.1\n",
    "else:\n",
    "    road_tax = cost_price * 0.05\n",
    "\n",
    "print(\"Road tax to be paid (in Rs): \", road_tax)"
   ]
  },
  {
   "cell_type": "code",
   "execution_count": null,
   "id": "8ad19bb2-894a-4c45-bc51-c9da6cbf2697",
   "metadata": {},
   "outputs": [],
   "source": [
    "# 3. Accept any city from the user and display monuments of that city. \n",
    "City \n",
    "Delhi \n",
    "Monument \n",
    "Red Fort \n",
    "Taj Mahal \n",
    "Agra \n",
    "Jaipur \n",
    "Jal Mahal \n"
   ]
  },
  {
   "cell_type": "code",
   "execution_count": 49,
   "id": "bfb8b2a3-b0aa-4bf6-b8a0-59b52a34a775",
   "metadata": {},
   "outputs": [
    {
     "name": "stdin",
     "output_type": "stream",
     "text": [
      "Enter a city:  delhi\n"
     ]
    }
   ],
   "source": [
    "city = input(\"Enter a city: \")\n",
    "\n",
    "if city.lower() == 'delhi':\n",
    "    Monument = 'Red Fort'\n",
    "elif city.lower() == 'agra':\n",
    "    Monument = 'Taj Mahal'\n",
    "elif city.lower() == 'jaipur':\n",
    "    Monument = 'Jal Mahal'\n",
    "    print(f\"Monument in {city} is: \", Monument)\n",
    "\n",
    "else:\n",
    "    print(f\"Sorry, we don't have information about monuments in {city} city\")"
   ]
  },
  {
   "cell_type": "code",
   "execution_count": 31,
   "id": "b05c2c4a-1893-4bbf-8a93-bb47c3e393e9",
   "metadata": {},
   "outputs": [
    {
     "name": "stdin",
     "output_type": "stream",
     "text": [
      "Enter a city:  delhi\n"
     ]
    },
    {
     "name": "stdout",
     "output_type": "stream",
     "text": [
      "Monuments in Delhi:\n",
      "- Red Fort\n",
      "- Qutub Minar\n",
      "- India Gate\n"
     ]
    }
   ],
   "source": [
    "city = input(\"Enter a city: \")\n",
    "\n",
    "if city.lower() == 'delhi':\n",
    "    print(\"Monuments in Delhi:\")\n",
    "    print(\"- Red Fort\")\n",
    "    print(\"- Qutub Minar\")\n",
    "    print(\"- India Gate\")\n",
    "elif city.lower() == 'agra':\n",
    "    print(\"Monuments in Agra:\")\n",
    "    print(\"- Taj Mahal\")\n",
    "    print(\"- Agra Fort\")\n",
    "elif city.lower() == 'jaipur':\n",
    "    print(\"Monuments in Jaipur:\")\n",
    "    print(\"- Hawa Mahal\")\n",
    "    print(\"- Jal Mahal\")\n",
    "else:\n",
    "    print(\"Sorry, we don't have information about monuments in that city.\")"
   ]
  },
  {
   "cell_type": "code",
   "execution_count": 50,
   "id": "cca6c6ce-dfed-4f1b-9c0d-2ddf8eed3f7d",
   "metadata": {},
   "outputs": [],
   "source": [
    "# 4. Check how many times a given number can be divided by 3 before it is less than or equal to 10."
   ]
  },
  {
   "cell_type": "code",
   "execution_count": 55,
   "id": "4fa56c45-9020-41af-b42c-f09214d84513",
   "metadata": {},
   "outputs": [
    {
     "name": "stdin",
     "output_type": "stream",
     "text": [
      "Enter a number:  1\n"
     ]
    },
    {
     "name": "stdout",
     "output_type": "stream",
     "text": [
      "The number can be divided by 3 0 times before it is less than or equal to 10.\n"
     ]
    }
   ],
   "source": [
    "num = int(input(\"Enter a number: \"))\n",
    "count = 0\n",
    "while num > 10:\n",
    "    num /= 3\n",
    "    count += 1\n",
    "print(\"The number can be divided by 3\", count, \"times before it is less than or equal to 10.\")"
   ]
  },
  {
   "cell_type": "markdown",
   "id": "248d9437-b5b4-46a5-92d0-985c883b00f6",
   "metadata": {},
   "source": [
    "# 5. Why and When to Use while Loop in Python give a detailed description with example \n",
    "To find out how many times a given number can be divided by 3 before it is less than or equal to 10, we can use a simple loop that keeps dividing the number by 3 until the result is less than or equal to 10. Here's an example code in Python:\n",
    "\n",
    "python\n",
    "Copy code\n",
    "num = int(input(\"Enter a number: \"))\n",
    "count = 0\n",
    "while num > 10:\n",
    "    num /= 3\n",
    "    count += 1\n",
    "print(\"The number can be divided by 3\", count, \"times before it is less than or equal to 10.\")\n",
    "Here, we first take an input number from the user and initialize a counter variable count to zero. Then we use a while loop that keeps dividing the number by 3 and incrementing the counter until the number becomes less than or equal to 10. Finally, we print out the result.\n",
    "\n",
    "For example, if the user enters the number 243, the output will be:\n",
    "\n",
    "vbnet\n",
    "Copy code\n",
    "The number can be divided by 3 4 times before it is less than or equal to 10.\n",
    "because 243 can be divided by 3 four times to get 81, 27, 9, and 3, which is less than or equal to 10.\n",
    "\n",
    "\n",
    "\n",
    "\n",
    "Nagaraj Sthavarmath\n",
    "Why and When to Use while Loop in Python give a detailed description with example \n",
    "A while loop in Python is used to repeatedly execute a block of code until a specific condition is met. The block of code inside the loop is executed as long as the condition specified in the while statement is true. Once the condition becomes false, the loop exits and control transfers to the next statement after the loop.\n",
    "\n",
    "The syntax for a while loop in Python is:\n",
    "\n",
    "python\n",
    "Copy code\n",
    "while condition:\n",
    "    # code block\n",
    "Here, condition is the expression that is evaluated before each iteration of the loop. If the condition is true, the code block inside the loop is executed. Once the block of code is executed, the condition is checked again and if it is still true, the loop repeats. This process continues until the condition becomes false.\n",
    "\n",
    "Let's look at an example of a while loop in Python:\n",
    "\n",
    "vbnet\n",
    "Copy code\n",
    "# print numbers from 1 to 5 using a while loop\n",
    "num = 1\n",
    "while num <= 5:\n",
    "    print(num)\n",
    "    num += 1\n",
    "In this example, we first initialize the variable num to 1. Then we use a while loop to print the numbers from 1 to 5. The condition in the while statement checks if num is less than or equal to 5. As long as this condition is true, the code block inside the loop is executed. In this case, the code block just prints the value of num and increments it by 1 in each iteration. Once num becomes 6, the condition becomes false and the loop exits.\n",
    "\n",
    "Now, let's look at some scenarios where you might want to use a while loop in Python:\n",
    "\n",
    "When the number of iterations is not known in advance:\n",
    "If you don't know how many times you need to execute a block of code, a while loop can be useful. You can use a while loop with a condition that checks for a specific event to occur or for a certain value to be reached.\n",
    "\n",
    "When you need to repeatedly execute a block of code until a specific condition is met:\n",
    "A while loop is useful when you need to repeatedly execute a block of code until a certain condition is met. For example, you can use a while loop to prompt a user to enter a valid input until they do so.\n",
    "\n",
    "When you need to process elements of a list or array:\n",
    "A while loop is often used to process elements of a list or array. You can use a while loop with an index variable to iterate over the elements of the list or array and perform some operation on each element.\n",
    "\n",
    "In summary, a while loop in Python is useful when you need to repeatedly execute a block of code until a specific condition is met. It is often used in situations where the number of iterations is not known in advance or when you need to process elements of a list or array."
   ]
  },
  {
   "cell_type": "code",
   "execution_count": 57,
   "id": "d21e4193-f9ce-4893-a076-70060dac2678",
   "metadata": {},
   "outputs": [
    {
     "name": "stdout",
     "output_type": "stream",
     "text": [
      "1\n",
      "2\n",
      "3\n",
      "4\n",
      "5\n"
     ]
    }
   ],
   "source": [
    "# print numbers from 1 to 5 using a while loop\n",
    "num = 1\n",
    "while num <= 5:\n",
    "    print(num)\n",
    "    num += 1"
   ]
  },
  {
   "cell_type": "code",
   "execution_count": 58,
   "id": "a37b7939-a023-42dc-9fa4-4224eead9672",
   "metadata": {},
   "outputs": [],
   "source": [
    "# 6. Use nested while loop to print 3 different pattern."
   ]
  },
  {
   "cell_type": "code",
   "execution_count": 59,
   "id": "c3152cab-2c5c-4c45-b050-b6a590372bfa",
   "metadata": {},
   "outputs": [
    {
     "name": "stdout",
     "output_type": "stream",
     "text": [
      "*\n",
      "**\n",
      "***\n",
      "****\n",
      "*****\n"
     ]
    }
   ],
   "source": [
    "i = 1\n",
    "while i <= 5:\n",
    "    j = 1\n",
    "    while j <= i:\n",
    "        print(\"*\", end=\"\")\n",
    "        j += 1\n",
    "    print()\n",
    "    i += 1"
   ]
  },
  {
   "cell_type": "code",
   "execution_count": 60,
   "id": "65e24063-c703-47e6-870d-449b23d9ec9d",
   "metadata": {},
   "outputs": [
    {
     "name": "stdout",
     "output_type": "stream",
     "text": [
      "1\n",
      "22\n",
      "333\n",
      "4444\n",
      "55555\n"
     ]
    }
   ],
   "source": [
    "i = 1\n",
    "while i <= 5:\n",
    "    j = 1\n",
    "    while j <= i:\n",
    "        print(i, end=\"\")\n",
    "        j += 1\n",
    "    print()\n",
    "    i += 1"
   ]
  },
  {
   "cell_type": "code",
   "execution_count": 61,
   "id": "f2b5b95b-fe0f-478e-b02e-f15409e6b1c0",
   "metadata": {},
   "outputs": [
    {
     "name": "stdout",
     "output_type": "stream",
     "text": [
      "*****\n",
      "****\n",
      "***\n",
      "**\n",
      "*\n"
     ]
    }
   ],
   "source": [
    "i = 5\n",
    "while i >= 1:\n",
    "    j = 1\n",
    "    while j <= i:\n",
    "        print(\"*\", end=\"\")\n",
    "        j += 1\n",
    "    print()\n",
    "    i -= 1"
   ]
  },
  {
   "cell_type": "code",
   "execution_count": 62,
   "id": "b3865335-15ef-4ae2-bd66-40f90a753b6c",
   "metadata": {},
   "outputs": [],
   "source": [
    "# 7. Reverse a while loop to display numbers from 10 to 1. \n",
    "# 8. Reverse a while loop to display numbers from 10 to 1 "
   ]
  },
  {
   "cell_type": "code",
   "execution_count": 63,
   "id": "ab92d92a-a3c9-4dde-b60f-a525096ca1f6",
   "metadata": {},
   "outputs": [
    {
     "name": "stdout",
     "output_type": "stream",
     "text": [
      "10\n",
      "9\n",
      "8\n",
      "7\n",
      "6\n",
      "5\n",
      "4\n",
      "3\n",
      "2\n",
      "1\n"
     ]
    }
   ],
   "source": [
    "num = 10\n",
    "while num >= 1:\n",
    "    print(num)\n",
    "    num -= 1"
   ]
  },
  {
   "cell_type": "code",
   "execution_count": null,
   "id": "58405445-32a7-413f-9274-bc8686de186c",
   "metadata": {},
   "outputs": [],
   "source": []
  }
 ],
 "metadata": {
  "kernelspec": {
   "display_name": "Python 3 (ipykernel)",
   "language": "python",
   "name": "python3"
  },
  "language_info": {
   "codemirror_mode": {
    "name": "ipython",
    "version": 3
   },
   "file_extension": ".py",
   "mimetype": "text/x-python",
   "name": "python",
   "nbconvert_exporter": "python",
   "pygments_lexer": "ipython3",
   "version": "3.10.8"
  }
 },
 "nbformat": 4,
 "nbformat_minor": 5
}
