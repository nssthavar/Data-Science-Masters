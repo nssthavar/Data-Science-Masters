{
 "cells": [
  {
   "cell_type": "markdown",
   "id": "f8d69558-a9cf-4fec-9107-4ae998e8090f",
   "metadata": {},
   "source": [
    "#### Q1. You are writing code for a company. The requirement of the company is that you create a python function that will check whether the password entered by the user is correct or not. The function should take the password as input and return the string “Valid Password” if the entered password follows the below-given password guidelines else it should return “Invalid Password”.\n",
    "Note: 1. The Password should contain at least two uppercase letters and at least two lowercase letters.\n",
    "2. The Password should contain at least a number and three special characters.\n",
    "3. The length of the password should be 10 characters long."
   ]
  },
  {
   "cell_type": "code",
   "execution_count": 6,
   "id": "6f8a8a37-4979-492b-bcbc-f97207c6b7e3",
   "metadata": {},
   "outputs": [],
   "source": [
    "import string\n",
    "\n",
    "def check_password(password):\n",
    "    lower_count = sum(1 for c in password if c.islower())\n",
    "    upper_count = sum(1 for c in password if c.isupper())\n",
    "    digit_count = sum(1 for c in password if c.isdigit())\n",
    "    special_count = sum(1 for c in password if c in string.punctuation)\n",
    "\n",
    "    if len(password) != 10:\n",
    "        return \"Invalid Password\"\n",
    "    elif lower_count < 2 or upper_count < 2:\n",
    "        return \"Invalid Password\"\n",
    "    elif digit_count < 1 or special_count < 3:\n",
    "        return \"Invalid Password\"\n",
    "    else:\n",
    "        return \"Valid Password\"\n"
   ]
  },
  {
   "cell_type": "code",
   "execution_count": 7,
   "id": "81c258c2-567c-4546-9e43-8146d73002fb",
   "metadata": {},
   "outputs": [
    {
     "name": "stdout",
     "output_type": "stream",
     "text": [
      "Valid Password\n",
      "Invalid Password\n"
     ]
    }
   ],
   "source": [
    "password = \"ABcdef$1@#\"\n",
    "result = check_password(password)\n",
    "print(result)  # Valid Password\n",
    "\n",
    "password = \"1234567890\"\n",
    "result = check_password(password)\n",
    "print(result)  # Invalid Password\n"
   ]
  },
  {
   "cell_type": "markdown",
   "id": "d0ac7947-2f8a-4fb8-9f44-c85e70044d4a",
   "metadata": {},
   "source": [
    "#### Q2. Solve the below-given questions using at least one of the following:\n",
    "1. Lambda functioJ\n",
    "2. Filter functioJ\n",
    "3. Zap functioJ\n",
    "4. List Comprehension\n",
    "B Check if the string starts with a particular letterY\n",
    "B Check if the string is numericY\n",
    "B Sort a list of tuples having fruit names and their quantity. [(\"mango\",99),(\"orange\",80), (\"grapes\", 1000)-\n",
    "B Find the squares of numbers from 1 to 10Y\n",
    "B Find the cube root of numbers from 1 to 10Y\n",
    "B Check if a given number is evenY\n",
    "B Filter odd numbers from the given list.\n",
    "[1,2,3,4,5,6,7,8,9,10-\n",
    "B Sort a list of integers into positive and negative integers lists.\n",
    "[1,2,3,4,5,6,-1,-2,-3,-4,-5,0]"
   ]
  },
  {
   "cell_type": "code",
   "execution_count": 16,
   "id": "6b37b0ad-0795-4c8c-bcbc-0e616d3c26bf",
   "metadata": {},
   "outputs": [
    {
     "name": "stdout",
     "output_type": "stream",
     "text": [
      "['banana']\n"
     ]
    }
   ],
   "source": [
    "## Check if the string starts with a particular letter:\n",
    "# Using Filter Lambda function:\n",
    "\n",
    "string_list = ['apple', 'banana', 'cherry', 'date']\n",
    "letter = 'b'\n",
    "filtered_list = list(filter(lambda x: x.startswith(letter), string_list))\n",
    "print(filtered_list)"
   ]
  },
  {
   "cell_type": "code",
   "execution_count": 19,
   "id": "59d9f577-64af-4b18-b6a8-a04ca89a5519",
   "metadata": {},
   "outputs": [
    {
     "name": "stdout",
     "output_type": "stream",
     "text": [
      "['789']\n"
     ]
    }
   ],
   "source": [
    "## Check if the string is numeric:\n",
    "# Using Filter Lambda function:\n",
    "\n",
    "string_list = ['apple', '789', '2.5', 'date']\n",
    "filtered_list = list(filter(lambda x: x.isnumeric(), string_list))\n",
    "print(filtered_list)"
   ]
  },
  {
   "cell_type": "code",
   "execution_count": 23,
   "id": "8225d7bb-c515-4159-9b7d-ea52fdd8d7c2",
   "metadata": {},
   "outputs": [
    {
     "name": "stdout",
     "output_type": "stream",
     "text": [
      "[('orange', 80), ('mango', 99), ('grapes', 1000)]\n"
     ]
    }
   ],
   "source": [
    "## Sort a list of tuples having fruit names and their quantity:\n",
    "# Using Lambda function:\n",
    "\n",
    "fruits_list = [(\"mango\",99),(\"orange\",80),(\"grapes\",1000)]\n",
    "sorted_list = sorted(fruits_list, key=lambda x: x[1])\n",
    "print(sorted_list)"
   ]
  },
  {
   "cell_type": "code",
   "execution_count": 11,
   "id": "ea675a34-6949-4bc4-82a8-eaba5aabbed2",
   "metadata": {},
   "outputs": [
    {
     "name": "stdout",
     "output_type": "stream",
     "text": [
      "[1, 4, 9, 16, 25, 36, 49, 64, 81, 100]\n"
     ]
    }
   ],
   "source": [
    "## Find the squares of numbers from 1 to 10:\n",
    "# Using List Comprehension:\n",
    "\n",
    "squares_list = [num**2 for num in range(1,11)]\n",
    "print(squares_list)"
   ]
  },
  {
   "cell_type": "code",
   "execution_count": 12,
   "id": "fa0f5464-bde2-4b83-b6bb-837a8460686c",
   "metadata": {},
   "outputs": [
    {
     "name": "stdout",
     "output_type": "stream",
     "text": [
      "[1.0, 1.2599210498948732, 1.4422495703074083, 1.5874010519681994, 1.7099759466766968, 1.8171205928321397, 1.912931182772389, 2.0, 2.080083823051904, 2.154434690031884]\n"
     ]
    }
   ],
   "source": [
    "## Find the cube root of numbers from 1 to 10:\n",
    "# Using List Comprehension:\n",
    "\n",
    "import math\n",
    "cube_roots_list = [math.pow(num,1/3) for num in range(1,11)]\n",
    "print(cube_roots_list)"
   ]
  },
  {
   "cell_type": "code",
   "execution_count": 25,
   "id": "ed43f83a-d539-4ce8-932a-a22cda71ee75",
   "metadata": {},
   "outputs": [
    {
     "name": "stdout",
     "output_type": "stream",
     "text": [
      "Even\n"
     ]
    }
   ],
   "source": [
    "## Check if a given number is even:\n",
    "# Using Lambda function:\n",
    "\n",
    "num = 8\n",
    "print(\"Even\" if (lambda x: x%2==0)(num) else \"Odd\")"
   ]
  },
  {
   "cell_type": "code",
   "execution_count": 14,
   "id": "9571ab1e-bb83-4ae3-b3d8-dfb67704c18e",
   "metadata": {},
   "outputs": [
    {
     "name": "stdout",
     "output_type": "stream",
     "text": [
      "[1, 3, 5, 7, 9]\n"
     ]
    }
   ],
   "source": [
    "## Filter odd numbers from the given list:\n",
    "# Using Lambda function:\n",
    "\n",
    "num_list = [1,2,3,4,5,6,7,8,9,10]\n",
    "odd_numbers = list(filter(lambda x: x%2!=0, num_list))\n",
    "print(odd_numbers)"
   ]
  },
  {
   "cell_type": "code",
   "execution_count": 15,
   "id": "7b52a808-ba31-4a06-836c-adc12304e976",
   "metadata": {},
   "outputs": [
    {
     "name": "stdout",
     "output_type": "stream",
     "text": [
      "[1, 2, 3, 4, 5, 6]\n",
      "[-1, -2, -3, -4, -5]\n"
     ]
    }
   ],
   "source": [
    "## Sort a list of integers into positive and negative integers lists:\n",
    "# Using List Comprehension:\n",
    "\n",
    "num_list = [1,2,3,4,5,6,-1,-2,-3,-4,-5,0]\n",
    "positive_nums = [num for num in num_list if num>0]\n",
    "negative_nums = [num for num in num_list if num<0]\n",
    "print(positive_nums)\n",
    "print(negative_nums)"
   ]
  }
 ],
 "metadata": {
  "kernelspec": {
   "display_name": "Python 3 (ipykernel)",
   "language": "python",
   "name": "python3"
  },
  "language_info": {
   "codemirror_mode": {
    "name": "ipython",
    "version": 3
   },
   "file_extension": ".py",
   "mimetype": "text/x-python",
   "name": "python",
   "nbconvert_exporter": "python",
   "pygments_lexer": "ipython3",
   "version": "3.10.8"
  }
 },
 "nbformat": 4,
 "nbformat_minor": 5
}
