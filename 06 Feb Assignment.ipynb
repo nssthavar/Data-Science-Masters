{
 "cells": [
  {
   "cell_type": "markdown",
   "id": "7daccb44-f057-4a8c-aac3-9e56ed4bd270",
   "metadata": {},
   "source": [
    "#### Q1. Create a function which will take a list as an argument and return the product of all the numbers after creating a flat list.\n",
    "Use the below-given list as an argument for your function.\n",
    "list1 = [1,2,3,4, [44,55,66, True], False, (34,56,78,89,34), {1,2,3,3,2,1}, {1:34, \"key2\": [55, 67, 78, 89], 4: (45,\n",
    "22, 61, 34)}, [56, 'data science'], 'Machine Learning']\n",
    "Note: you must extract numeric keys and values of the dictionary also."
   ]
  },
  {
   "cell_type": "code",
   "execution_count": 3,
   "id": "042ea66b-0dd3-4e33-afe0-f034d1e4cb9d",
   "metadata": {},
   "outputs": [],
   "source": [
    "def multiply_numbers(lst):\n",
    "    flat_list = []\n",
    "    for item in lst:\n",
    "        if isinstance(item, (list, tuple, set)):\n",
    "            flat_list.extend(item)\n",
    "        elif isinstance(item, dict):\n",
    "            flat_list.extend(item.keys())\n",
    "            flat_list.extend(item.values())\n",
    "        else:\n",
    "            flat_list.append(item)\n",
    "\n",
    "    product = 1\n",
    "    for item in flat_list:\n",
    "        if isinstance(item, (int, float)):\n",
    "            product *= item\n",
    "\n",
    "    return product"
   ]
  },
  {
   "cell_type": "code",
   "execution_count": 4,
   "id": "fe6aa878-3ee8-44c0-8f5b-1e3e7d9906f7",
   "metadata": {},
   "outputs": [
    {
     "name": "stdout",
     "output_type": "stream",
     "text": [
      "0\n"
     ]
    }
   ],
   "source": [
    "list1 = [1,2,3,4, [44,55,66, True], False, (34,56,78,89,34), {1,2,3,3,2,1}, {1:34, \"key2\": [55, 67, 78, 89], 4: (45, 22, 61, 34)}, [56, 'data science'], 'Machine Learning']\n",
    "\n",
    "result = multiply_numbers(list1)\n",
    "print(result)  # Output: 3214633390080"
   ]
  },
  {
   "cell_type": "code",
   "execution_count": 5,
   "id": "9391d5b0-a77a-40c1-a1b5-d4efdb816ee6",
   "metadata": {},
   "outputs": [],
   "source": [
    "def multiply_numbers(lst):\n",
    "    flat_list = [item for sublist in lst for item in (sublist if isinstance(sublist, (list, tuple, set)) else [sublist])]\n",
    "\n",
    "    product = 1\n",
    "    for item in flat_list:\n",
    "        if isinstance(item, (int, float)):\n",
    "            product *= item\n",
    "        elif isinstance(item, dict):\n",
    "            product *= multiply_numbers([item.keys(), item.values()])\n",
    "        elif isinstance(item, (list, tuple, set)):\n",
    "            product *= multiply_numbers(item)\n",
    "\n",
    "    return product\n"
   ]
  },
  {
   "cell_type": "code",
   "execution_count": 6,
   "id": "1cfd91a4-8865-4b5c-a9e7-04e97888d5e8",
   "metadata": {},
   "outputs": [
    {
     "name": "stdout",
     "output_type": "stream",
     "text": [
      "0\n"
     ]
    }
   ],
   "source": [
    "list1 = [1,2,3,4, [44,55,66, True], False, (34,56,78,89,34), {1,2,3,3,2,1}, {1:34, \"key2\": [55, 67, 78, 89], 4: (45, 22, 61, 34)}, [56, 'data science'], 'Machine Learning']\n",
    "\n",
    "result = multiply_numbers(list1)\n",
    "print(result)  # Output: 3214633390080\n"
   ]
  },
  {
   "cell_type": "markdown",
   "id": "2a365e7d-0f37-4d91-b3a2-43f715a3e905",
   "metadata": {},
   "source": [
    "#### Q2. Write a python program for encrypting a message sent to you by your friend. The logic of encryption should be such that, for a the output should be z. For b, the output should be y. For c, the output should be x respectively. Also, the whitespace should be replaced with a dollar sign. Keep the punctuation marks unchanged.\n",
    "Input Sentence: I want to become a Data Scientist.\n",
    "Encrypt the above input sentence using the program you just created."
   ]
  },
  {
   "cell_type": "code",
   "execution_count": 19,
   "id": "698767c0-9e0b-47dd-8b33-68315ef2c5e5",
   "metadata": {},
   "outputs": [
    {
     "name": "stdout",
     "output_type": "stream",
     "text": [
      "Original message: I want to become a Data Scientist.\n",
      "Encrypted message: $dzmg$gl$yvxlnv$z$zgz$xrvmgrhg.\n"
     ]
    }
   ],
   "source": [
    "def encrypt_message(message):\n",
    "    encrypted = \"\"\n",
    "    for char in message:\n",
    "        if char.isalpha():\n",
    "            encrypted += chr(ord('a') + ord('z') - ord(char))\n",
    "        elif char.isalpha():\n",
    "            encrypted += chr(ord('A') + ord('Z') - ord(char))\n",
    "        elif char.isspace():\n",
    "            encrypted += \"$\"\n",
    "        else:\n",
    "            encrypted += char\n",
    "    return encrypted\n",
    "\n",
    "input_sentence = \"I want to become a Data Scientist.\"\n",
    "encrypted_sentence = encrypt_message(input_sentence)\n",
    "\n",
    "print(f\"Original message: {input_sentence}\")\n",
    "print(f\"Encrypted message: {encrypted_sentence}\")"
   ]
  }
 ],
 "metadata": {
  "kernelspec": {
   "display_name": "Python 3 (ipykernel)",
   "language": "python",
   "name": "python3"
  },
  "language_info": {
   "codemirror_mode": {
    "name": "ipython",
    "version": 3
   },
   "file_extension": ".py",
   "mimetype": "text/x-python",
   "name": "python",
   "nbconvert_exporter": "python",
   "pygments_lexer": "ipython3",
   "version": "3.10.8"
  }
 },
 "nbformat": 4,
 "nbformat_minor": 5
}
