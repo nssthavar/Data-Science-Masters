{
 "cells": [
  {
   "cell_type": "markdown",
   "id": "f593335c-2c9e-4440-9577-2ef778814b76",
   "metadata": {},
   "source": [
    "#                                       29th Jan 2023 Assignment "
   ]
  },
  {
   "cell_type": "markdown",
   "id": "f4198a70-6c1b-4f05-8ee3-5cee44b974e5",
   "metadata": {},
   "source": [
    "#### 1. Who developed Python Programming Language?\n",
    "Python was created by Guido van Rossum in the late 1980s while he was working at the National Research Institute for Mathematics and Computer Science in the Netherlands (CWI). He named it after the Monty Python comedy group, of which he was a big fan. Guido van Rossum continued to lead the development of Python until he retired in 2018. Today, the Python community contributes to the ongoing development and maintenance of the language."
   ]
  },
  {
   "cell_type": "markdown",
   "id": "4496ca97-8dd1-4a68-9000-5c80c5890bb5",
   "metadata": {},
   "source": [
    "#### 2. Which type of Programming does Python support? \n",
    "Python is a versatile programming language that supports several programming paradigms, including:\n",
    "\n",
    "Procedural programming: Writing code that consists of a set of instructions that tell the computer what to do step by step.\n",
    "\n",
    "Object-oriented programming: Writing code that organizes data and functions into classes, objects, and methods.\n",
    "\n",
    "Functional programming: Writing code that treats computation as the evaluation of mathematical functions and avoids changing state and mutable data.\n",
    "\n",
    "Aspect-oriented programming: Writing code that separates cross-cutting concerns such as logging and error handling from the main logic.\n",
    "\n",
    "Python also supports several programming styles, such as imperative, declarative, and event-driven programming. This flexibility makes Python suitable for a wide range of applications, including web development, scientific computing, data analysis, artificial intelligence, and machine learning."
   ]
  },
  {
   "cell_type": "markdown",
   "id": "de0c67f8-9c6b-413b-8539-57e708e422f6",
   "metadata": {},
   "source": [
    "#### 3. Is Python case sensitive when dealing with identifiers? \n",
    "Yes, Python is case sensitive when dealing with identifiers. This means that identifiers such as variable names, function names, and class names in Python are distinguished by case. For example, a variable named \"my_var\" is different from a variable named \"my_Var\" or \"My_var\".\n",
    "\n",
    "It's essential to be consistent in your use of identifiers throughout your Python code. Using inconsistent capitalization can result in errors, as Python will treat the identifiers as separate entities. It's a good practice to use lowercase letters for variable names and function names and uppercase letters for class names in Python.\n",
    "\n",
    "\n",
    "\n",
    "\n"
   ]
  },
  {
   "cell_type": "markdown",
   "id": "b89bf504-97be-4b18-b526-8167089990b3",
   "metadata": {},
   "source": [
    "#### 4. What is the correct extension of the Python file? \n",
    "The correct extension for a Python file is \".py\". When you save a Python program to a file, you should give it a name that ends with \".py\".\n",
    "\n",
    "For example, if you have a Python program called \"hello_world.py\", you would run it by typing \"python hello_world.py\" in the command line. The \".py\" extension tells the operating system that the file is a Python program and should be executed using the Python interpreter.\n",
    "\n",
    "It's important to use the correct file extension, as it helps other developers and users understand the type of file and what it is used for. Additionally, some text editors and Integrated Development Environments (IDEs) use file extensions to provide syntax highlighting and other features specific to the programming language."
   ]
  },
  {
   "cell_type": "markdown",
   "id": "5b74e518-3edc-45ec-a99b-ef7868ffcb09",
   "metadata": {},
   "source": [
    "#### 5. Is Python code compiled or interpreted? \n",
    "Python is an interpreted language, which means that it is not compiled directly into machine code that can be executed by the computer. Instead, the Python interpreter reads and executes the code line by line at runtime.\n",
    "\n",
    "When you run a Python program, the source code is first parsed and compiled into bytecode by the Python interpreter. This bytecode is a low-level representation of the code that can be executed by the Python Virtual Machine (PVM). The PVM then runs the bytecode and executes the program.\n",
    "\n",
    "The advantage of interpreted languages like Python is that they are easy to learn, write, and debug. Changes to the source code can be made quickly and tested without the need for a time-consuming compilation process. However, interpreted languages may be slower than compiled languages because the interpreter must process the code at runtime.\n",
    "\n",
    "To optimize the performance of Python programs, various techniques are used, such as just-in-time compilation, which compiles frequently executed code into machine code at runtime."
   ]
  },
  {
   "cell_type": "markdown",
   "id": "1423ae6e-9958-4f18-8ce5-ed6f1ab386fa",
   "metadata": {},
   "source": [
    "#### 6. Name a few blocks of code used to define in Python language? \n",
    "In Python, blocks of code are defined using indentation. Indentation is a way to group statements together to form a code block. Here are a few examples of blocks of code used in Python:\n",
    "\n",
    "1.Function definition block:\n",
    "    def my_function(argument1, argument2):\n",
    "    # code block\n",
    "    return result\n",
    "\n",
    "2.Class definition block:\n",
    "    class MyClass:\n",
    "    def __init__(self, argument):\n",
    "        self.attribute = argument\n",
    "\n",
    "    def my_method(self):\n",
    "        # code block\n",
    "        return result\n",
    "\n",
    "3.Conditional statement block:\n",
    "    if condition:\n",
    "    # code block for True condition\n",
    "else:\n",
    "    # code block for False condition\n",
    "\n",
    "4.Loop block:\n",
    "    for item in iterable:\n",
    "    # code block for each iteration\n",
    "\n",
    "5.Exception handling block:\n",
    "    try:\n",
    "    # code block that may raise an exception\n",
    "except ExceptionType:\n",
    "    # code block to handle the exception\n",
    "finally:\n",
    "    # code block that runs whether an exception is raised or not\n",
    "\n",
    "In Python, it's essential to maintain consistent indentation throughout your code. Indentation errors can result in syntax errors and cause your code to fail.\n"
   ]
  },
  {
   "cell_type": "markdown",
   "id": "384f8d5c-2f85-4627-903c-374aebc44e62",
   "metadata": {},
   "source": [
    "#### 7. State a character used to give single-line comments in Python? \n",
    "In Python, you can add a single-line comment by using the hash character #. Anything that comes after the hash character on a line is treated as a comment and is ignored by the Python interpreter. Here's an example:\n",
    "\n",
    "# This is a single-line comment in Python\n",
    "\n",
    "print(\"Hello, World!\")  # This is another comment\n",
    "In the above example, the first line is a single-line comment, and the Python interpreter ignores it when running the program. The second line prints the message \"Hello, World!\" to the console, and the third line is another single-line comment.\n",
    "\n",
    "Single-line comments are often used to provide brief explanations of code or to disable a line of code temporarily during testing or debugging."
   ]
  },
  {
   "cell_type": "markdown",
   "id": "7c6aafe9-57d5-4c31-b3df-f13133cbd633",
   "metadata": {},
   "source": [
    "#### 8. Mention functions which can help us to find the version of python that we are currently working on?\n",
    "In Python, you can find the version of Python that you are currently working on using the following functions:\n",
    "\n",
    "sys module: The sys module provides access to some variables used or maintained by the interpreter and to functions that interact strongly with the interpreter. You can use the sys.version attribute to get the version of Python that you are currently using. Here's an example:\n",
    "\n",
    "import sys\n",
    "print(sys.version)\n",
    "This will print the version of Python that you are currently using.\n",
    "\n",
    "platform module: The platform module provides an interface to various services that interact with the underlying platform or operating system. You can use the platform.python_version() function to get the version of Python that you are currently using. Here's an example:\n",
    "\n",
    "import platform\n",
    "print(platform.python_version())\n",
    "This will print the version of Python that you are currently using.\n",
    "\n",
    "Both of these methods will return a string that contains the version number of Python."
   ]
  },
  {
   "cell_type": "markdown",
   "id": "957ebfca-5bc4-407c-9e89-a6c2c00c2d70",
   "metadata": {},
   "source": [
    "#### 9. Python supports the creation of anonymous functions at runtime, using a construct called \n",
    "lambda functions.\n",
    "\n",
    "Lambda functions in Python are also known as anonymous functions because they are defined without a name. They are small, one-line functions that can take any number of arguments, but can only have one expression. The syntax for creating a lambda function in Python is:\n",
    "\n",
    "\n",
    "lambda arguments: expression\n",
    "Here, 'arguments' refer to the function arguments, and 'expression' is the single expression that the function will evaluate and return.\n",
    "\n",
    "Lambda functions are often used in functional programming to pass small, simple functions as arguments to higher-order functions, such as 'map()', 'filter()', and 'reduce()'. They are also used in other programming paradigms for concise, one-off functions that don't need to be defined and named explicitly."
   ]
  },
  {
   "cell_type": "markdown",
   "id": "45f44d9b-a113-4f15-8e28-a1518cab02db",
   "metadata": {},
   "source": [
    "#### 10. What does pip stand for python?\n",
    "In Python, pip stands for \"Pip Installs Packages\".\n",
    "\n",
    "pip is the default package manager for Python and is used to install, manage, and update third-party packages and libraries in Python. It allows developers to easily install and manage Python packages and their dependencies from the Python Package Index (PyPI) and other sources.\n",
    "\n",
    "With pip, developers can easily install and uninstall packages, upgrade or downgrade packages to different versions, and manage package dependencies. pip also provides many other features, such as searching for packages, listing installed packages, and generating requirements files for sharing package dependencies between projects."
   ]
  },
  {
   "cell_type": "markdown",
   "id": "4b3f238e-6e54-41f2-962f-9f5441fbbaf4",
   "metadata": {},
   "source": [
    "#### 11. Mention a few built-in functions in python? \n",
    "Python has a rich collection of built-in functions that can be used for various purposes. Here are some examples of commonly used built-in functions in Python:\n",
    "\n",
    "print(): Used to print output to the console.\n",
    "\n",
    "input(): Used to accept user input from the console.\n",
    "\n",
    "len(): Used to determine the length of a sequence, such as a string, list, or tuple.\n",
    "\n",
    "type(): Used to determine the data type of a value or variable.\n",
    "\n",
    "range(): Used to generate a sequence of numbers.\n",
    "\n",
    "int(), float(), and str(): Used to convert values from one data type to another.\n",
    "\n",
    "min() and max(): Used to find the minimum and maximum values in a sequence.\n",
    "\n",
    "sum(): Used to find the sum of values in a sequence.\n",
    "\n",
    "sorted(): Used to sort a sequence in ascending order.\n",
    "\n",
    "abs(): Used to find the absolute value of a number.\n",
    "\n",
    "round(): Used to round a number to a specified number of decimal places.\n",
    "\n",
    "enumerate(): Used to iterate over a sequence and keep track of the index.\n",
    "\n",
    "These are just a few examples of the many built-in functions available in Python. There are many more, so I encourage you to explore the Python documentation to learn more."
   ]
  },
  {
   "cell_type": "markdown",
   "id": "61e66498-dc6d-4f48-96b2-ab1b93ca1099",
   "metadata": {},
   "source": [
    "#### 12. What is the maximum possible length of an identifier in Python? \n",
    "\n",
    "In Python, the maximum possible length of an identifier (i.e., a variable name, function name, class name, etc.) is technically unlimited. However, in practice, it's recommended to keep identifier names reasonably short and descriptive for the sake of readability and maintainability.\n",
    "\n",
    "According to the official Python documentation, an identifier can be any length and can contain the following characters:\n",
    "\n",
    "Uppercase letters (A-Z)\n",
    "Lowercase letters (a-z)\n",
    "Digits (0-9)\n",
    "Underscore (_)\n",
    "An identifier must also follow these rules:\n",
    "\n",
    "It cannot start with a digit.\n",
    "It cannot be a reserved keyword in Python, such as if, else, for, while, etc.\n",
    "It should be written in lowercase letters for variables and functions, and in CamelCase for class names.\n",
    "Here are some examples of valid identifier names in Python:\n",
    "\n",
    "\n",
    "my_variable\n",
    "my_function\n",
    "MyClass\n",
    "my_module\n",
    "_this_is_a_valid_identifier\n",
    "And here are some examples of invalid identifier names in Python:\n",
    "\n",
    "\n",
    "1variable (starts with a digit)\n",
    "if (reserved keyword)\n",
    "my-variable (contains a hyphen)\n",
    "\n",
    "\n"
   ]
  },
  {
   "cell_type": "markdown",
   "id": "4cd3dba6-74af-4df7-a4e7-7c5bf53127dc",
   "metadata": {},
   "source": [
    "#### 13. What are the benefits of using Python? \n",
    "\n",
    "There are many benefits to using Python as a programming language. Here are some of the key advantages of using Python:\n",
    "\n",
    "Simple and easy to learn: Python has a clean and simple syntax, making it easy to learn and read. Its readability and straightforward syntax reduce the cost of program maintenance and development.\n",
    "\n",
    "Large standard library: Python comes with a large and comprehensive standard library that provides many useful modules and functions for a variety of tasks, such as working with databases, networking, web development, and more.\n",
    "\n",
    "Cross-platform: Python is a cross-platform language, which means it can be used on multiple operating systems like Windows, Mac, and Linux. Programs written in Python can be easily moved between different platforms without needing significant modifications.\n",
    "\n",
    "Third-party libraries: Python has a vast ecosystem of third-party libraries and tools that extend its functionality beyond the standard library. These libraries provide a wide range of capabilities for tasks such as data analysis, scientific computing, machine learning, and more.\n",
    "\n",
    "Productivity and speed: Python's high-level and expressive nature enables programmers to write code quickly and efficiently. Python has an interactive mode, which means it can be used for rapid prototyping, testing, and debugging. Additionally, Python's built-in profiling and debugging tools help to optimize the code for faster execution.\n",
    "\n",
    "Community support: Python has a large and active community of developers, which means that there are many resources available online, such as documentation, forums, and tutorials. The community also provides frequent updates and improvements to the language and its ecosystem.\n",
    "\n",
    "Overall, Python is a versatile, powerful, and easy-to-learn language that offers many advantages for developers, making it an excellent choice for a wide range of projects and applications."
   ]
  },
  {
   "cell_type": "markdown",
   "id": "9d70a180-905d-4d68-b401-25ce5f625dbd",
   "metadata": {},
   "source": [
    "#### 14. How is memory managed in Python? \n",
    "\n",
    "Python manages memory automatically through a mechanism known as \"garbage collection\". This means that the programmer does not need to explicitly allocate and deallocate memory like in some other programming languages.\n",
    "\n",
    "Here's a brief overview of how memory management works in Python:\n",
    "\n",
    "Memory allocation: When a new object is created in Python, the interpreter allocates memory for it from the heap. The size of the memory block allocated depends on the type and size of the object.\n",
    "\n",
    "Reference counting: Python uses a technique called reference counting to keep track of how many references (i.e., variables or other objects that point to the same memory location) an object has. When an object's reference count drops to zero, it is no longer accessible and is marked for garbage collection.\n",
    "\n",
    "Garbage collection: Python's garbage collector periodically checks the heap for objects that are no longer accessible (i.e., have a reference count of zero) and frees their memory.\n",
    "\n",
    "Python's garbage collector uses a combination of reference counting and a cycle-detecting algorithm to manage memory. The cycle-detecting algorithm identifies and breaks reference cycles (i.e., circular references between objects) to ensure that all objects can be properly garbage collected.\n",
    "\n",
    "In addition to garbage collection, Python provides other memory management features such as object caching, which reuses objects instead of creating new ones, and memory profiling tools, which help to identify memory leaks and optimize memory usage.\n",
    "\n",
    "Overall, Python's memory management is designed to be automatic and efficient, allowing developers to focus on writing code without having to worry about low-level memory management tasks.\n"
   ]
  },
  {
   "cell_type": "markdown",
   "id": "bc9bb354-33fc-45f7-afa0-a5f38642d1a1",
   "metadata": {},
   "source": [
    "#### 15. How to install Python on Windows and set path variables?\n",
    "\n",
    "Here are the steps to install Python on Windows and set the path variables:\n",
    "\n",
    "Download the latest version of Python from the official website: https://www.python.org/downloads/windows/.\n",
    "\n",
    "Run the downloaded installer and follow the instructions in the setup wizard. Make sure to select the \"Add Python to PATH\" option during the installation.\n",
    "\n",
    "Once the installation is complete, open the command prompt by pressing the \"Windows + R\" keys and typing \"cmd\".\n",
    "\n",
    "Type \"python\" in the command prompt and press Enter. This should open the Python interpreter, indicating that Python has been installed successfully.\n",
    "\n",
    "Next, you need to set the path variables. To do this, right-click on \"My Computer\" and select \"Properties\".\n",
    "\n",
    "Click on \"Advanced system settings\" and then select the \"Environment Variables\" button.\n",
    "\n",
    "Under \"System Variables\", scroll down and find the \"Path\" variable. Click on \"Edit\" to modify it.\n",
    "\n",
    "Add the following path to the \"Path\" variable: \";C:\\PythonXX;C:\\PythonXX\\Scripts\", where \"XX\" is the version number of the installed Python.\n",
    "\n",
    "Click \"OK\" to close all the windows and save the changes.\n",
    "\n",
    "To test if the path variables are set up correctly, open a new command prompt and type \"python\". This should open the Python interpreter.\n",
    "\n",
    "That's it! You have now installed Python on Windows and set up the path variables. You can start writing and running Python programs by opening a text editor and saving your code with a \".py\" extension, then running it from the command prompt using the command \"python filename.py\"."
   ]
  },
  {
   "cell_type": "markdown",
   "id": "2fb326c4-605e-4a5e-81d1-44be1b28ce93",
   "metadata": {},
   "source": [
    "#### 16. Is indentation required in python? \n",
    "\n",
    "Yes, indentation is required in Python. In fact, Python uses indentation to indicate blocks of code. This is different from many other programming languages that use curly braces or keywords like \"begin\" and \"end\" to delimit code blocks.\n",
    "\n",
    "In Python, you must use consistent indentation to show which statements are part of a block. Typically, the standard is to use four spaces for each level of indentation. For example:\n",
    "\n",
    "\n",
    "if x > 0:\n",
    "    print(\"x is positive\")\n",
    "    if x > 10:\n",
    "        print(\"x is greater than 10\")\n",
    "else:\n",
    "    print(\"x is not positive\")\n",
    "In this example, the if and else statements have blocks of code that are indented to show their relationship. The code within the if block is indented four spaces, and the code within the nested if block is indented eight spaces.\n",
    "\n",
    "It's important to note that inconsistent indentation can result in syntax errors in Python code, so it's essential to use the same number of spaces for each level of indentation throughout your program."
   ]
  },
  {
   "cell_type": "code",
   "execution_count": null,
   "id": "46ff13f9-d06a-4d8f-867d-c32d182b8b54",
   "metadata": {},
   "outputs": [],
   "source": []
  }
 ],
 "metadata": {
  "kernelspec": {
   "display_name": "Python 3 (ipykernel)",
   "language": "python",
   "name": "python3"
  },
  "language_info": {
   "codemirror_mode": {
    "name": "ipython",
    "version": 3
   },
   "file_extension": ".py",
   "mimetype": "text/x-python",
   "name": "python",
   "nbconvert_exporter": "python",
   "pygments_lexer": "ipython3",
   "version": "3.10.8"
  }
 },
 "nbformat": 4,
 "nbformat_minor": 5
}
